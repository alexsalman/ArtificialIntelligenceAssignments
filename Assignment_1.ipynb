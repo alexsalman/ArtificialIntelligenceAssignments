{
  "nbformat": 4,
  "nbformat_minor": 0,
  "metadata": {
    "colab": {
      "name": "Assignment 1.ipynb",
      "provenance": [],
      "collapsed_sections": []
    },
    "kernelspec": {
      "name": "python3",
      "display_name": "Python 3"
    },
    "language_info": {
      "name": "python"
    }
  },
  "cells": [
    {
      "cell_type": "code",
      "metadata": {
        "id": "T6LzXTtwW_cj"
      },
      "source": [
        "%matplotlib inline"
      ],
      "execution_count": 1,
      "outputs": []
    },
    {
      "cell_type": "markdown",
      "metadata": {
        "id": "GWCPCDvGW_cm"
      },
      "source": [
        "# Assignment 1\n",
        "\n",
        "**DUE: Tuesday, January 18th 2022 at 11:59pm**\n",
        "\n",
        "Turn in the assignment via Canvas.\n",
        "\n",
        "To write legible answers you will need to be familiar with both [Markdown](https://github.com/adam-p/markdown-here/wiki/Markdown-Cheatsheet) and [Latex](https://www.latex-tutorial.com/tutorials/amsmath/)\n",
        "\n",
        "Before you turn this problem in, make sure everything runs as expected. To do so, restart the kernel and run all cells (in the menubar, select Runtime→→Restart and run all).\n",
        "#### Show your work!\n",
        "Whenever you are asked to find the solution to a problem, be sure to also **show how you arrived** at your answer.\n",
        "\n",
        "Make sure you fill in any place that says \"YOUR CODE HERE\" or \"YOUR ANSWERS HERE\", as well as your name below:"
      ]
    },
    {
      "cell_type": "code",
      "metadata": {
        "id": "HtYVVkQVW_cm"
      },
      "source": [
        "NAME = \"Alex Salman\"\n",
        "STUDENT_ID = \"1851405\""
      ],
      "execution_count": 2,
      "outputs": []
    },
    {
      "cell_type": "markdown",
      "metadata": {
        "id": "Hc-OUgRxWIPM"
      },
      "source": [
        "## Problem 1\n",
        "\n",
        "![figure](https://docs.google.com/drawings/d/e/2PACX-1vR3cNeZWfHNbPXRGyZrKazhI2WNM9wroJoAsshbD7LzwEBd4k0W_zu-T30_O_4iHC2qpKRxCRBA1IjV/pub?w=480&h=320)\n",
        "\n",
        "Which solution would the following search algorithms find to move from node *Start* to node *Goal* if run the algorithm on the search graph above? Break any ties alphabetically.\n",
        "\n",
        "a. Breadth-First Search\n",
        "\n",
        "b. Depth-First Search\n",
        "\n",
        "c. Uniform Cost Search\n",
        "\n",
        "Explain by drawing an equivalent search tree for each of them. Draw the search trees graphically. A good way to do this is through [Google Drawings](https://docs.google.com/drawings)"
      ]
    },
    {
      "cell_type": "markdown",
      "metadata": {
        "id": "sUml23ztWOA3"
      },
      "source": [
        "[YOUR ANSWERS HERE]\n",
        "\n",
        "a. Breadth-First Search <img src=\"https://docs.google.com/drawings/d/e/2PACX-1vTZAx3rrVA4I6qlweh3yU1z74EDIJTFg-sRXNlWEBpQjVWQk9wG46xe963DUgSyY3stv-ZG5Pbbk7bn/pub?w=960&amp;h=720\">\n",
        "\n",
        "b. Depth-First Search <img src=\"https://docs.google.com/drawings/d/e/2PACX-1vSzJSZt1omV4cNUvNSwLzpYUVpSowvDLShXd4-SZqX49BPFo3LHcb9SI7IQ2kv2CceBICTECs6Ii1jJ/pub?w=960&h=720\">\n",
        "\n",
        "c. Uniform Cost Search <img src=\"https://docs.google.com/drawings/d/e/2PACX-1vQu-mnu1zF_mxKSWGXWP37mlgRhMlSwJhTf3XPh3cl_x5K78le-4sICZPc8ImqpRrFNJ0nnmIEauFxS/pub?w=960&amp;h=720\">"
      ]
    },
    {
      "cell_type": "markdown",
      "metadata": {
        "id": "2cCZFudXW_cp"
      },
      "source": [
        "## Problem 2\n",
        "Answer the following questions about the search problem shown in the figure below. Break any ties alphabetically. For the questions that ask for a path, please give your answers in a form similar to this example, \n",
        "\n",
        "Start − a − d − Goal\n",
        "\n",
        "![figure](https://docs.google.com/drawings/d/e/2PACX-1vS4nUoOVGzXNZTHZLsY6wZ6VyjtPlA4mhcvWs-6mgwaeDwoMftqbYyytgBVmgOnqLoUGZbRt8cuQNfA/pub?w=640&h=480)\n",
        "\n",
        "What path would be returned for this search problem using each of the following graph search algorithms?\n",
        "\n",
        "a. Breadth-First Search\n",
        "\n",
        "b. Uniform Cost Search\n",
        "\n",
        "c. Depth-First Search\n",
        "\n",
        "d. A* Search (using an appropriate heuristic function). Explain what heuristc function you used.\n",
        "\n",
        "\n",
        "\n",
        "Consider the heuristics for this problem shown in the table below.\n",
        "\n",
        "|     State     |     h1     |     h2        |\n",
        "|---------------|------------|---------------|\n",
        "|     start     |     5      |     4         |\n",
        "|     a         |     3      |     2         |\n",
        "|     b         |     6      |     6         |\n",
        "|     c         |     2      |     1         |\n",
        "|     d         |     3      |     3         |\n",
        "|     goal      |     0      |     0         |\n",
        "\n",
        "\n",
        "e. Is h1 consistent?\n",
        "\n",
        "f. Is h2 consistent?"
      ]
    },
    {
      "cell_type": "markdown",
      "metadata": {
        "id": "gFzDftDmW_cq"
      },
      "source": [
        "[YOUR ANSWERS HERE]\n",
        "\n",
        "a. Start - Goal\n",
        "\n",
        "b. Start - a - c - Goal\n",
        "\n",
        "c. Start - Goal (left child first)\n",
        "\n",
        "d. Start - a - c - Goal | I used Euclidean distance function to find this path. The lowest cost path costs 4, so the cost of this path is going to be 4 or less\n",
        "\n",
        "e. No, it is inconsistent because start node h1 = 5 so the cost prime = 1 + (3-5) is less than zero\n",
        "\n",
        "f. No, it is inconsistent because start node h2 = 4 so the cost prime = 1 + (2-4) is less than zero \n"
      ]
    },
    {
      "cell_type": "markdown",
      "metadata": {
        "id": "_uecj_VM0l1a"
      },
      "source": [
        "##Problem 3\n",
        "\n",
        "![graph](https://docs.google.com/drawings/d/e/2PACX-1vStncj9Nc0LddQeViaYnykNxEZsJoYJMHhub2LLX8s7k7gwYjlnlt0cCcivymFihiZyOOMtHwzk1Z4G/pub?w=480&amp;h=320)\n",
        "\n",
        "Find the order of visited nodes of the given graph above using both Breadth-first Search (BFS) (Textbook Section 3.4.1) and Depth-First Search (DFS) (Textbook Section 3.4.3).\n",
        "\n",
        "A Node class is given to you for creating the graph.\n",
        "\n",
        "**NOTE:**\n",
        " - If two nodes are considered equally good chocices, take the node with the lower ID first. \n",
        " - Do not revisit already explored nodes when implementing the DFS algorithm.\n",
        "\n"
      ]
    },
    {
      "cell_type": "code",
      "metadata": {
        "id": "5oZ3wxyN1lpY"
      },
      "source": [
        "class Node:\n",
        "    \"\"\"\n",
        "    This class describes a single node contained within a graph. \n",
        "    It has the following instannce level attributes:\n",
        "    \n",
        "    ID: An integer id for the node i.e. 1\n",
        "    \"\"\"    \n",
        "    def __init__(self, ID):\n",
        "        self.ID = ID\n",
        "        self.connected_nodes = []\n",
        "        \n",
        "    def __repr__(self):\n",
        "        ID = self.ID\n",
        "        if len(self.connected_nodes)==0:\n",
        "            nodes = 'None'\n",
        "        else:\n",
        "            nodes = ','.join(str(cn[1].ID) for cn in self.connected_nodes)\n",
        "        return '\\nNode:{}\\nConnected Nodes:{}'.format(ID, nodes)\n",
        "        \n",
        "    def set_connected_nodes(self,connected_nodes):\n",
        "        \"\"\"\n",
        "        Adds edges that lead from this node to other nodes:\n",
        "        \n",
        "        Parameters:\n",
        "        - connected_nodes: A list of tuples consisting of (cost, Node), \n",
        "                           where 'cost' is a floating point value \n",
        "                           indicating the cost to get from this node \n",
        "                           to 'Node' and 'Node' is a Node object\n",
        "        \"\"\"\n",
        "        self.connected_nodes = connected_nodes\n",
        "    \n",
        "def build_graph():\n",
        "    \"\"\"\n",
        "    Builds the graph to be parsed by the search algorithms.\n",
        "    Returns: All nodes with connectivity in the graph\n",
        "    \"\"\"\n",
        "    ids = range(13)\n",
        "    coords = [(0,0), (1,1), (1,0), (1,1), (5,2), (3,1), (3,0), \n",
        "              (3,-1), (5,1), (4,1), (4,0), (4,-2), (7,0)]\n",
        "    \n",
        "    #https://en.wikipedia.org/wiki/Euclidean_distance\n",
        "    euclidean_distance = lambda x1y1, x2y2: ((x1y1[0]-x2y2[0])**2 +  (x1y1[1]-x2y2[1])**2)**(0.5)\n",
        "    \n",
        "    def build_connected_node_list(from_id, to_ids):\n",
        "        starting_coords = coords[from_id]\n",
        "        \n",
        "        connected_nodes = []\n",
        "        for to_id in to_ids:\n",
        "            connected_nodes.append((euclidean_distance(starting_coords, coords[to_id]), all_nodes[to_id]))\n",
        "            \n",
        "        return connected_nodes\n",
        "    \n",
        "    goal_coords = (7,0)\n",
        "    all_nodes = [Node(_id) for _id in ids]\n",
        "    \n",
        "    all_nodes[8].set_connected_nodes(build_connected_node_list(8, [12]))\n",
        "    all_nodes[10].set_connected_nodes(build_connected_node_list(10,[12]))\n",
        "    all_nodes[5].set_connected_nodes(build_connected_node_list(5, [8]))\n",
        "    all_nodes[6].set_connected_nodes(build_connected_node_list(6, [9, 10]))\n",
        "    all_nodes[7].set_connected_nodes(build_connected_node_list(7, [11]))\n",
        "    all_nodes[1].set_connected_nodes(build_connected_node_list(1, [4,5]))\n",
        "    all_nodes[2].set_connected_nodes(build_connected_node_list(2, [5,6]))\n",
        "    all_nodes[3].set_connected_nodes(build_connected_node_list(3, [7]))\n",
        "    all_nodes[0].set_connected_nodes(build_connected_node_list(0, [1,2,3]))\n",
        "    \n",
        "    return all_nodes"
      ],
      "execution_count": 3,
      "outputs": []
    },
    {
      "cell_type": "code",
      "metadata": {
        "id": "sT9DpO4Zf2Qs",
        "colab": {
          "base_uri": "https://localhost:8080/"
        },
        "outputId": "225d1caa-9a99-420d-deaf-0abb1b698075"
      },
      "source": [
        "# The starting node. You can use this cell to familiarize\n",
        "# yourself with the node/graph structure\n",
        "build_graph()"
      ],
      "execution_count": 4,
      "outputs": [
        {
          "output_type": "execute_result",
          "data": {
            "text/plain": [
              "[\n",
              " Node:0\n",
              " Connected Nodes:1,2,3, \n",
              " Node:1\n",
              " Connected Nodes:4,5, \n",
              " Node:2\n",
              " Connected Nodes:5,6, \n",
              " Node:3\n",
              " Connected Nodes:7, \n",
              " Node:4\n",
              " Connected Nodes:None, \n",
              " Node:5\n",
              " Connected Nodes:8, \n",
              " Node:6\n",
              " Connected Nodes:9,10, \n",
              " Node:7\n",
              " Connected Nodes:11, \n",
              " Node:8\n",
              " Connected Nodes:12, \n",
              " Node:9\n",
              " Connected Nodes:None, \n",
              " Node:10\n",
              " Connected Nodes:12, \n",
              " Node:11\n",
              " Connected Nodes:None, \n",
              " Node:12\n",
              " Connected Nodes:None]"
            ]
          },
          "metadata": {},
          "execution_count": 4
        }
      ]
    },
    {
      "cell_type": "code",
      "metadata": {
        "id": "zUAP1i0N1syW"
      },
      "source": [
        "import collections\n",
        "def BFS(starting_node, goal_node):\n",
        "    \"\"\"\n",
        "    This function implements the breath first search algorithm\n",
        "    \n",
        "    Parameters:\n",
        "    - starting_node: The entry node into the graph\n",
        "    - goal_node: The integer ID of the goal node.\n",
        "    \n",
        "    Returns:\n",
        "    A list containing the visited nodes in order they were visited with starting node\n",
        "    always being the first node and the goal node always being the last\n",
        "    \"\"\"\n",
        "    visited_nodes_in_order = []\n",
        "    # YOUR CODE HERE\n",
        "    # raise NotImplementedError()\n",
        "    queue = collections.deque()    \n",
        "    queue.append(starting_node)\n",
        "    while queue:\n",
        "        node = queue.popleft()\n",
        "        if node:\n",
        "            visited_nodes_in_order.append(node)\n",
        "            if node.ID == goal_node:\n",
        "                break\n",
        "            for child in node.connected_nodes:\n",
        "                if child[1] not in visited_nodes_in_order:\n",
        "                    queue.append(child[1])\n",
        "    return visited_nodes_in_order\n",
        "\n",
        "def DFS(starting_node, goal_node):\n",
        "    \"\"\"\n",
        "    This function implements the depth first search algorithm\n",
        "    \n",
        "    Parameters:\n",
        "    - starting_node: The entry node into the graph\n",
        "    - goal_node: The integer ID of the goal node.\n",
        "    \n",
        "    Returns:\n",
        "    A list containing the visited nodes in order they were visited with starting node\n",
        "    always being the first node and the goal node always being the last\n",
        "    \"\"\"\n",
        "    visited_nodes_in_order = []\n",
        "    \n",
        "    # YOUR CODE HERE\n",
        "    # raise NotImplementedError()\n",
        "    stack = []\n",
        "    stack.append(starting_node)\n",
        "    while stack:\n",
        "        node = stack.pop()\n",
        "        if node:\n",
        "            visited_nodes_in_order.append(node)\n",
        "            if node.ID == goal_node:\n",
        "                break\n",
        "            for child in node.connected_nodes:\n",
        "                if child[1] not in visited_nodes_in_order:\n",
        "                    stack.append(child[1])\n",
        "    return visited_nodes_in_order"
      ],
      "execution_count": 5,
      "outputs": []
    },
    {
      "cell_type": "code",
      "metadata": {
        "id": "BekHk0MQ6W2k",
        "colab": {
          "base_uri": "https://localhost:8080/"
        },
        "outputId": "a160f61f-2450-4d64-910b-536ebbe589b1"
      },
      "source": [
        "goal_node = 12\n",
        "\n",
        "print(BFS(build_graph()[0], goal_node))\n",
        "\n",
        "print(DFS(build_graph()[0], goal_node))"
      ],
      "execution_count": 6,
      "outputs": [
        {
          "output_type": "stream",
          "name": "stdout",
          "text": [
            "[\n",
            "Node:0\n",
            "Connected Nodes:1,2,3, \n",
            "Node:1\n",
            "Connected Nodes:4,5, \n",
            "Node:2\n",
            "Connected Nodes:5,6, \n",
            "Node:3\n",
            "Connected Nodes:7, \n",
            "Node:4\n",
            "Connected Nodes:None, \n",
            "Node:5\n",
            "Connected Nodes:8, \n",
            "Node:5\n",
            "Connected Nodes:8, \n",
            "Node:6\n",
            "Connected Nodes:9,10, \n",
            "Node:7\n",
            "Connected Nodes:11, \n",
            "Node:8\n",
            "Connected Nodes:12, \n",
            "Node:8\n",
            "Connected Nodes:12, \n",
            "Node:9\n",
            "Connected Nodes:None, \n",
            "Node:10\n",
            "Connected Nodes:12, \n",
            "Node:11\n",
            "Connected Nodes:None, \n",
            "Node:12\n",
            "Connected Nodes:None]\n",
            "[\n",
            "Node:0\n",
            "Connected Nodes:1,2,3, \n",
            "Node:3\n",
            "Connected Nodes:7, \n",
            "Node:7\n",
            "Connected Nodes:11, \n",
            "Node:11\n",
            "Connected Nodes:None, \n",
            "Node:2\n",
            "Connected Nodes:5,6, \n",
            "Node:6\n",
            "Connected Nodes:9,10, \n",
            "Node:10\n",
            "Connected Nodes:12, \n",
            "Node:12\n",
            "Connected Nodes:None]\n"
          ]
        }
      ]
    },
    {
      "cell_type": "markdown",
      "metadata": {
        "id": "LM0yg5nnW_cx"
      },
      "source": [
        "## Problem 4\n",
        "\n",
        "For the same graph from **Problem 3**, implement the **A* Search** (Textbook Section 3.5.2) algorithm.\n",
        "\n",
        "A modified Node class similar to the Node class from **Problem 3** is given to create the graph. \n",
        "Here is  the pseudo code from the book for A* Search.\n",
        "\n",
        "#### A* Search\n",
        "---\n",
        "The most widely known form of best-first search is called **A∗ search** (pronounced \"A-star search\"). It evaluates nodes by combining $g(n)$, the cost to reach the node, and $h(n)$, the cost to get from the node to the goal:\n",
        "\n",
        "\\begin{equation*}\n",
        "f(n) = g(n) + h(n) .\n",
        "\\end{equation*}\n",
        "\n",
        "Since $g(n)$ gives the path cost from the start node to node $n$, and $h(n)$ is the estimated cost of the cheapest path from n to the goal, we have\n",
        "\n",
        "\n",
        "$f(n)$= estimated cost of the cheapest solution through $n$ .\n",
        "\n",
        "**NOTE:**\n",
        "- If two nodes are considered equally good choices, take the node with the lower ID first. \n"
      ]
    },
    {
      "cell_type": "code",
      "metadata": {
        "id": "5gePs3lzpyrQ"
      },
      "source": [
        "class Node:\n",
        "    \"\"\"\n",
        "    This class describes a single node contained within a graph. \n",
        "    It has the following instannce level attributes:\n",
        "    \n",
        "    ID: An integer id for the node i.e. 1\n",
        "    heuristic_cost: A float value representing the estimated \n",
        "                    cost to the goal node\n",
        "    \"\"\"    \n",
        "    def __init__(self, ID, heuristic_cost):\n",
        "        self.ID = ID\n",
        "        self.connected_nodes = []\n",
        "        self.heuristic_cost = heuristic_cost\n",
        "        \n",
        "    def __repr__(self):\n",
        "        ID = self.ID\n",
        "        hx = self.heuristic_cost\n",
        "        if len(self.connected_nodes)==0:\n",
        "            nodes = 'None'\n",
        "        else:\n",
        "            nodes = ','.join(str(cn[1].ID) for cn in self.connected_nodes)\n",
        "        return 'Node:{}\\nh(n):{}\\nConnected Nodes:{}'.format(ID, hx, nodes)\n",
        "        \n",
        "    def set_connected_nodes(self,connected_nodes):\n",
        "        \"\"\"\n",
        "        Adds edges that lead from this node to other nodes:\n",
        "        \n",
        "        Parameters:\n",
        "        - connected_nodes: A list of tuples consisting of (cost, Node), \n",
        "                           where 'cost' is a floating point value \n",
        "                           indicating the cost to get from this node \n",
        "                           to 'Node' and 'Node' is a Node object\n",
        "        \"\"\"\n",
        "        self.connected_nodes = connected_nodes\n",
        "    \n",
        "def build_graph():\n",
        "    \"\"\"\n",
        "    Builds the graph to be parsed by the search algorithms.\n",
        "    Returns: The starting node, which is the entry point into the graph\n",
        "    \"\"\"\n",
        "    ids = range(13)\n",
        "    coords = [(0,0), (1,1), (1,0), (1,1), (5,2), (3,1), (3,0), \n",
        "              (3,-1), (5,1), (4,1), (4,0), (4,-2), (7,0)]\n",
        "    \n",
        "    #https://en.wikipedia.org/wiki/Euclidean_distance\n",
        "    euclidean_distance = lambda x1y1, x2y2: ((x1y1[0]-x2y2[0])**2 +  (x1y1[1]-x2y2[1])**2)**(0.5)\n",
        "    \n",
        "    def build_connected_node_list(from_id, to_ids):\n",
        "        starting_coords = coords[from_id]\n",
        "        \n",
        "        connected_nodes = []\n",
        "        for to_id in to_ids:\n",
        "            connected_nodes.append((euclidean_distance(starting_coords, coords[to_id]), all_nodes[to_id]))\n",
        "            \n",
        "        return connected_nodes\n",
        "    \n",
        "    goal_coords = (7,0)\n",
        "    all_nodes = [Node(_id, euclidean_distance(coord, goal_coords)) for _id, coord in zip(ids, coords)]\n",
        "    \n",
        "    all_nodes[8].set_connected_nodes(build_connected_node_list(8, [12]))\n",
        "    all_nodes[10].set_connected_nodes(build_connected_node_list(10,[12]))\n",
        "    all_nodes[5].set_connected_nodes(build_connected_node_list(5, [8]))\n",
        "    all_nodes[6].set_connected_nodes(build_connected_node_list(6, [9, 10]))\n",
        "    all_nodes[7].set_connected_nodes(build_connected_node_list(7, [11]))\n",
        "    all_nodes[1].set_connected_nodes(build_connected_node_list(1, [4,5]))\n",
        "    all_nodes[2].set_connected_nodes(build_connected_node_list(2, [5,6]))\n",
        "    all_nodes[3].set_connected_nodes(build_connected_node_list(3, [7]))\n",
        "    all_nodes[0].set_connected_nodes(build_connected_node_list(0, [1,2,3]))\n",
        "    \n",
        "    return all_nodes[0]"
      ],
      "execution_count": 7,
      "outputs": []
    },
    {
      "cell_type": "code",
      "metadata": {
        "id": "aZYZ7nLahQGg",
        "colab": {
          "base_uri": "https://localhost:8080/"
        },
        "outputId": "2ac05424-c809-45fb-a162-d81c39f2d85c"
      },
      "source": [
        "# The starting node. You can use this cell to familiarize\n",
        "# yourself with the node/graph structure\n",
        "build_graph()"
      ],
      "execution_count": 8,
      "outputs": [
        {
          "output_type": "execute_result",
          "data": {
            "text/plain": [
              "Node:0\n",
              "h(n):7.0\n",
              "Connected Nodes:1,2,3"
            ]
          },
          "metadata": {},
          "execution_count": 8
        }
      ]
    },
    {
      "cell_type": "code",
      "metadata": {
        "id": "ZDDwqQiFhVng"
      },
      "source": [
        "from queue import PriorityQueue\n",
        "def a_star_search(starting_node, goal_node):\n",
        "    \"\"\"\n",
        "    This function implements the A* search algorithm\n",
        "    \n",
        "    Parameters:\n",
        "    - starting_node: The entry node into the graph\n",
        "    - goal_node: The integer ID of the goal node.\n",
        "    \n",
        "    Returns:\n",
        "    A list containing the visited node ids in order they were visited with starting node\n",
        "    always being the first node and the goal node always being the last\n",
        "    \"\"\"\n",
        "    visited_nodes_in_order = []\n",
        "    \n",
        "    # YOUR CODE HERE\n",
        "    # raise NotImplementedError()\n",
        "    pq = PriorityQueue()\n",
        "    pq.put([0, starting_node.ID, starting_node])    \n",
        "    while pq:\n",
        "        node = pq.get()\n",
        "        if node:\n",
        "            visited_nodes_in_order.append(node[2].ID)\n",
        "            if node[2].ID == goal_node:\n",
        "                break\n",
        "            for child in node[2].connected_nodes:\n",
        "                f = child[0] + child[1].heuristic_cost\n",
        "                pq.put([f, child[1].ID, child[1]])\n",
        "    return visited_nodes_in_order"
      ],
      "execution_count": 9,
      "outputs": []
    },
    {
      "cell_type": "code",
      "metadata": {
        "id": "RDZzQjaGhcpO"
      },
      "source": [
        "goal_node = 12\n",
        "\n",
        "a_star_search_answer = [0, 2, 6, 10, 12]\n",
        "\n",
        "assert a_star_search(build_graph(), goal_node)==a_star_search_answer"
      ],
      "execution_count": 10,
      "outputs": []
    },
    {
      "cell_type": "markdown",
      "metadata": {
        "id": "psUU0bxsUluW"
      },
      "source": [
        "## Problem 5\n",
        "\n",
        "**Question 3.8 of the textbook**: In section 3.1 we made an assumption that edge costs are all non-negative and therefore we would not consider problems with negative path costs.\n",
        "\n",
        "a. Suppose that actions can have arbitrarily large negative costs; explain why this possibility would force any optimal algorithm to explore the entire state space.\n",
        "\n",
        "b. Does it help if we insist that step costs must be greater than or equal to some negative constant c? Consider both trees and graphs.\n",
        "\n",
        "c. Suppose that a set of actions forms a loop in the state space such that executing the set in some order results in no net change to the state. If all of these actions have negative cost, what does this imply about the optimal behavior for an agent in such an environment?\n",
        "\n",
        "d. One can easily imagine actions with high negative cost, even in domains such as route finding. For example, some stretches of road might have such beautiful scenery as to far outweigh the normal costs in terms of time and fuel. Explain, in precise terms, within the context of state-space search, why humans do not drive around scenic loops indefinitely, and explain how to define the state space and actions for route finding so that artificial agents can also avoid looping.\n",
        "\n",
        "e. Can you think of a real domain in which step costs are such as to cause looping?\n"
      ]
    },
    {
      "cell_type": "markdown",
      "metadata": {
        "id": "0Icb-HO7Wi_W"
      },
      "source": [
        "YOUR ANSWERS HERE\n",
        "\n",
        "a. The possibility would force any optimal algorithm to explore the entire state space because the algorithm will keep looking for the optimal behavior which increases the cost. So in the case of negative edges, the algorithm cannot achieve this behavior.\n",
        "\n",
        "b. It will not help considering both trees and graphs because we will break the assumption of adding more increases the cost as mentioned in problem 5.a.\n",
        "\n",
        "c. It implies that optimal behavior might be in an infinite loop because it will always contain the optimal behavior.\n",
        "\n",
        "d. Humans will not drive around scenic loops indefinitely because they consider other factors besides the cost of the path. So, the better the factor on the road is, the better interests humans will build. Furthermore, the already traveled roads will be less interesting to humans.\n",
        "\n",
        "To avoid looping for artificial agents, more factors need to be considered besides the cost. They need factors that would mimic human interests in a specific path. That would decrease the interest in the already visited paths and eventually will prevent looping.\n",
        "\n",
        "e. A real domain could be a person and celery; the more the person eats celery, the hungrier it’s going to cause the person."
      ]
    },
    {
      "cell_type": "code",
      "source": [
        ""
      ],
      "metadata": {
        "id": "SOj8aR4Z6kRg"
      },
      "execution_count": 10,
      "outputs": []
    }
  ]
}