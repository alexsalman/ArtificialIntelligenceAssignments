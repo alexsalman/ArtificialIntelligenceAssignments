{
  "nbformat": 4,
  "nbformat_minor": 0,
  "metadata": {
    "colab": {
      "name": "Assignment 4.ipynb",
      "provenance": [],
      "collapsed_sections": [
        "u3f7EMMtlvtf"
      ]
    },
    "kernelspec": {
      "name": "python3",
      "display_name": "Python 3"
    },
    "language_info": {
      "name": "python"
    }
  },
  "cells": [
    {
      "cell_type": "code",
      "metadata": {
        "id": "T6LzXTtwW_cj"
      },
      "source": [
        "%matplotlib inline"
      ],
      "execution_count": 1,
      "outputs": []
    },
    {
      "cell_type": "markdown",
      "metadata": {
        "id": "GWCPCDvGW_cm"
      },
      "source": [
        "# Assignment 4\n",
        "\n",
        "**DUE: Tuesday, March 4th 2022 at 11:59pm**\n",
        "\n",
        "Turn in the assignment via Canvas.\n",
        "\n",
        "To write legible answers you will need to be familiar with both [Markdown](https://github.com/adam-p/markdown-here/wiki/Markdown-Cheatsheet) and [Latex](https://www.latex-tutorial.com/tutorials/amsmath/)\n",
        "\n",
        "Before you turn this problem in, make sure everything runs as expected. To do so, restart the kernel and run all cells (in the menubar, select Runtime→→Restart and run all).\n",
        "#### Show your work!\n",
        "Whenever you are asked to find the solution to a problem, be sure to also **show how you arrived** at your answer."
      ]
    },
    {
      "cell_type": "code",
      "source": [
        "%matplotlib inline"
      ],
      "metadata": {
        "id": "JpuqyxTOQprb"
      },
      "execution_count": 2,
      "outputs": []
    },
    {
      "cell_type": "code",
      "metadata": {
        "id": "HtYVVkQVW_cm"
      },
      "source": [
        "NAME = \"Alex Salman\"\n",
        "STUDENT_ID = \"1851405\""
      ],
      "execution_count": 3,
      "outputs": []
    },
    {
      "cell_type": "markdown",
      "metadata": {
        "id": "GGbAsOzRQpx-"
      },
      "source": [
        "## Problem 1 - Bayes' Theorem - Testing for a Genetic Defect\n",
        "---\n",
        "Testing for a genetic defect is not perfect. There are two kinds of errors in a binary test, a **false positive** where a test result incorrectly indicates a presence of a condition when it is not present, and a **false negative** where the test incorrectly fails to indicate the presence of a condition when it is present. These are in contrast with the two correct results; **true positive** and **true negative**.\n",
        "\n",
        "Given the following data, answer the following questions\n",
        "* Two percent of people have this genetic defect.\n",
        "* Ninety two percent of tests for the gene detect it (true positive)\n",
        "* Six percent of tests are false positives. "
      ]
    },
    {
      "cell_type": "markdown",
      "metadata": {
        "id": "7NqhG0Fmpnmp"
      },
      "source": [
        "### Part 1\n",
        "What is the probability of getting a positive result on the test?"
      ]
    },
    {
      "cell_type": "markdown",
      "metadata": {
        "id": "zD9l_mP8q81S"
      },
      "source": [
        "###### The probability of tests true positives:\n",
        "###### P(gene | detected) = 1 - P(~gene | detected) = 1 - 0.06 = 0.94 (94%)\n",
        "###### Using Bayes' Theorem P(A|B) = P(B|A) . P(A) / P(B) to find the probability of getting a positive result on the test\n",
        "###### P(detected) = P(detected | gene) . P(gene) / P(gene | detected) = 0.92 . 0.02 / 0.94 = 0.0195 (1.95%)"
      ]
    },
    {
      "cell_type": "markdown",
      "metadata": {
        "id": "bL03igKcq_Av"
      },
      "source": [
        "### Part 2\n",
        "What is the probability of having the gene, given a positive result?"
      ]
    },
    {
      "cell_type": "markdown",
      "metadata": {
        "id": "-cjOIhs1rjAF"
      },
      "source": [
        "###### P(gene | detected = positive) = 0.0195 * 0.92 = 0.0179 (1.79%) \n"
      ]
    },
    {
      "cell_type": "markdown",
      "metadata": {
        "id": "nPtbV7k6rpO5"
      },
      "source": [
        "## Problem 2 - Bayesian Networks\n",
        "---\n",
        "You are given the following Bayyesian network consisting of five binary random variables S1, S2, S3, S4, S5. Each variable can represent a certain state which can be \"True\" or \"False\". Answer the following questions based on the probabilities given below.\n",
        "\n",
        "![GRAPH1.png](data:image/png;base64,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)\n",
        "\n",
        "* P(S1 = true) = 0.5\n",
        "* P(S2 = true | S1) = {0.6, S1 = false; 0.75, S1 = true}\n",
        "* P(S4 = true | S1) = {0.1, S1 = false; 0.8, S1 = true}\n",
        "* P(S3 = true | S1,S4) = {0.2, S1=false,S4=false; 0.8, S1=true,S4=false; 0.4, S1=false,S4=true; 0.9, S1=true,S4=true}\n",
        "* P(S5 = true | S3) = { 0.75, S3 = false; 0.1 S3 = true}\n"
      ]
    },
    {
      "cell_type": "markdown",
      "metadata": {
        "id": "PQj1NlgK1XTv"
      },
      "source": [
        "### Part 1 \n",
        "Given the above network and probabilities, calculate the probability of P(S1=true, S2=true, S3=true, S4=true, S5=true).\n",
        "\n"
      ]
    },
    {
      "cell_type": "markdown",
      "metadata": {
        "id": "_XanR3BZ4-60"
      },
      "source": [
        "######P(S1=true, S2=true, S3=true, S4=true, S5=true) = \n",
        "######P(S1=true) * P(S2 = true | S1 = true) * P(S3 = true | S1 = true, S4 = true) * P(S4 = true | S1 = true) * P(S5 = true | S3 - true) = \n",
        "######0.5 * 0.75 * 0.9 * 0.8 * 0.1 = 0.027 (0.27%)"
      ]
    },
    {
      "cell_type": "markdown",
      "metadata": {
        "id": "lRK_ln-O5H_x"
      },
      "source": [
        "### Part 2\n",
        "Given the above network and probabilities, calculate the probability of P(S5 = true | S1 = true).\n"
      ]
    },
    {
      "cell_type": "markdown",
      "metadata": {
        "id": "nzBTLH4P5cpS"
      },
      "source": [
        "######P(S5 = true | S1 = true) =\n",
        "######P(S1 = true) * P(S4 = true | S1 = true) * [ P(S3 = true | S1 = true, S4 = true) + P(S3 = true | S1 = true, S4 = false) ] * [ P(S5 = true | S3 = true) + P(S5 = true | S3 = false) ] =\n",
        "######0.5 * 0.8 * [0.9 + 0.8] * [0.1 + 0.75] =\n",
        "######0.5 * 0.8 * 1.7 * 0.85 = \n",
        "######0.578 (57.8%)\n"
      ]
    },
    {
      "cell_type": "markdown",
      "metadata": {
        "id": "1jD9aiyR5eeV"
      },
      "source": [
        "### Part 3\n",
        "Given the above network and probabilities, calculate the probability of P(S1 = true | S5 = true)."
      ]
    },
    {
      "cell_type": "markdown",
      "metadata": {
        "id": "ZrMiJ4vO5ovX"
      },
      "source": [
        "###### P(S1 = true | S5 = true) = P(S1 = true) = 0.5 (50%)"
      ]
    },
    {
      "cell_type": "markdown",
      "metadata": {
        "id": "hx3UAnIl5rJc"
      },
      "source": [
        "### Part 4\n",
        "Using the chain rule of probability factor P(S1, S2, S3, S4, S5) give the minimum number of parameters to specify the distribution according to the independencies mentioned:\n",
        "\n",
        "(i) S1, S2, S3, S4, S5 are mutually independent.\n",
        "\n",
        "(ii) no independencies. "
      ]
    },
    {
      "cell_type": "markdown",
      "metadata": {
        "id": "OERdpeJK6afl"
      },
      "source": [
        "###### (i) Number of parameters = number of states = 5\n",
        "###### (ii) Number of parameters = 2 ^ number of states = 2 ^ 5 = 32"
      ]
    },
    {
      "cell_type": "markdown",
      "metadata": {
        "deletable": false,
        "editable": false,
        "nbgrader": {
          "checksum": "5de1d899a516090395f300c2ecc737f0",
          "grade": false,
          "grade_id": "cell-f12bff039a5016a3",
          "locked": true,
          "schema_version": 1,
          "solution": false
        },
        "id": "6q2qG3e3BwDf"
      },
      "source": [
        "## Problem 3 - COVID-19 Simulation\n",
        "---\n",
        "\n",
        "Using MDP, model the spread of COVID-19 for creating a simulator, under certain assumptions in a hypothetical situation. In the simulation, the inhabitants of a town move around as they go about their regular business.\n",
        "\n",
        "In the simulation, there are 2 types of people in the town, a **carrier** or **non-carrier** of the Coronavirus. The virus spreads via droplets when an infected person comes in close contact (within 6 feets) of another person who has the virus, a carrier. Non-carriers cannot transmit the disease. Associated with these two types are 5 different states that a person can be in. A carrier can be in one of the following 2 states: infected (but not sick i.e. asymptomatic), or sick. A non-carrier can be in 3 states: unexposed, dead, or immune.\n",
        "\n",
        "The states (with a distinct color representing the state in the MDP) are described as the following:\n",
        "\n",
        "\n",
        "*   **Unexposed** (BLUE): The people who haven't encountered the virus at all so far.\n",
        "*   **Infected** (ORANGE): People who have the virus but have no symptoms of the disease. An unexposed person has an 80% chance of getting infected on coming in contact with a person carrying the virus. An infected person may get sick with symptoms in 5 days or stay infected (contagious) for 15 days and develop immunity after that.\n",
        "*   **Sick** (RED): Symptomatic people who have the virus and are sick. Of those infected individuals, 50% get sick with the disease. In 10 days, a sick person may recover completely (98%) and develop lifelong immunity, or may die (2%).\n",
        "*   **Dead** (GRAY): People who die from the disease. 2% of the sick die.\n",
        "*   **Immune** (GREEN): There are two ways of getting to this state: 1) People who got sick with COVID-19, and recovered and thereby, have developed lifelong immunity, 2) People who were infected but didn't develop symptoms and became immune once they stopped being contagious.\n",
        "\n",
        "\n",
        "Let's assume that, the cost for running 1 day of simulation is 1 standard processing cycle of a specific computer. On day 1 of the simulation, a (random) person returned to the town from elsewhere and is sick with the virus. Unexposed people who come in contact with this carrier as they travel between home and work may become infected with the virus. There is an 80% chance of contracting the virus (and changing state to infected) on contact with a carrier. We assume that this is the only means by which an unexposed person may get infected by the virus, and they are infected immediately. To summarize, the following transitions between states are possible:\n",
        "\n",
        "*   Unexposed → Infected (happens immediately on the same day after each contact with 80% chance)\n",
        "*   Infected → Sick (after 5 days of getting infected with 50% chance)\n",
        "*   Infected → Immune (after 15 days of getting infected with 50% chance)\n",
        "*   Sick → Immune (after 10 days of getting sick with 98% chance)\n",
        "*   Sick → Dead (after 10 days of getting sick with 2% chance)"
      ]
    },
    {
      "cell_type": "markdown",
      "source": [
        "### Part 1\n",
        "Draw the MDP graphically."
      ],
      "metadata": {
        "id": "aP4BqyuTlgUK"
      }
    },
    {
      "cell_type": "markdown",
      "source": [
        "<img src=\"https://docs.google.com/drawings/d/e/2PACX-1vS7NglpYtdd1kmWWSOSBL8u7ZRvoDyh46r87cKC6VcmLbIkZyY7iA8w_7BUY_x7vM1SJ-qwy6RcwYQx/pub?w=960&amp;h=720\">"
      ],
      "metadata": {
        "id": "EAzw7qOKlmd_"
      }
    },
    {
      "cell_type": "markdown",
      "source": [
        "### Part 2\n",
        "Create the transition probabilities matrix/table for the MDP."
      ],
      "metadata": {
        "id": "ZYS5fRWkldC-"
      }
    },
    {
      "cell_type": "markdown",
      "source": [
        "![Screen Shot 2022-03-04 at 11.24.01.png](data:image/png;base64,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)"
      ],
      "metadata": {
        "id": "3_WfqNSmhlvx"
      }
    },
    {
      "cell_type": "markdown",
      "metadata": {
        "id": "4N8K_Ls1A87g"
      },
      "source": [
        "## Problem 4: MDP of a Professional Lifestyle \n",
        "---\n",
        "Solve the following  MDP using both ***Value Iteration*** and ***Policy Iteration*** algorithms.\n",
        "\n",
        "Neo is a freelance computer programmer, and his aim in life is to earn as much money as he can by writing more code. He has three possible states in his daily professional life as below.\n",
        "\n",
        "1.   **Productive** - He can write programming codes more efficiently.\n",
        "2.   **Exhausted** - He is too tired to think well in order to write efficient programming codes.\n",
        "3.   **Fit** - He is physically and mentally in a great state to write code and solve programming problems.\n",
        "\n",
        "\n",
        "When Neo is **Exhausted**, he can choose one of three actions: (1) Keep **Coding**, (2) do some physical **Exercise**, or (3) get some **Rest**.\n",
        "\n",
        "If he chooses to do more coding, he remains in the **Exhausted** state with the certainty of getting a \\$20 reward. If he decides to get Rest, he has 80% chance of moving to the next state, **Productive**, and a 20% chance of staying **Exhausted**.\n",
        "If he doesn’t want to get Rest, he may go to the gym and do some physical Exercise. This gives him a 50% chance of entering the **Productive** state and a 50% chance of staying **Exhausted** state. However, he needs to pay for the gym, so this choice results in a -\\$10 reward.\n",
        "\n",
        "When Neo becomes **Productive**, he can write programs more efficiently. From there, he has an 80% chance of getting **Exhausted** again with earning a \\$40 reward, and a 20% chance of staying **Productive** while earning a \\$30 reward.\n",
        "Sometimes, when he is **Productive**, he wants to do some physical Exercise. When he Exercises in this state, he enjoys it very much and gets 100% **Fit** physically and mentally. However, he needs to pay \\$10 for it.\n",
        "\n",
        "Once Neo reaches the state **Fit**, he is fully-committed to earning more money by more Coding. Because he is in such a great state physically and mentally, he can write programs very efficiently. In this state, he earns a \\$100 reward, and he keeps writing code until he is **Exhausted** again.\n",
        "\n",
        "Use MDP to find the best policy to maximize his earnings/rewards over time."
      ]
    },
    {
      "cell_type": "markdown",
      "source": [
        "### Part 1\n",
        "Draw the MDP graphically."
      ],
      "metadata": {
        "id": "xVGWRfJglUD2"
      }
    },
    {
      "cell_type": "markdown",
      "metadata": {
        "id": "jckgTbK2qESC"
      },
      "source": [
        "<img src=\"https://docs.google.com/drawings/d/e/2PACX-1vTzv2FwKfHfBIktWiw5j5r2yPL8d39bTS-pwh5ZxlxndS09clGSrlyvqdDiDN3YN2t8fQO4EWIPci3m/pub?w=960&amp;h=720\">"
      ]
    },
    {
      "cell_type": "markdown",
      "source": [
        "### Part 2\n",
        "Using a discount factor of 0.86, solve the MDP using value iteration algorithm (until the values have become reasonably stable). You should start with the values set to zero. You should show both the optimal policy and the optimal values."
      ],
      "metadata": {
        "id": "u3f7EMMtlvtf"
      }
    },
    {
      "cell_type": "markdown",
      "source": [
        "$V_{k+1}(s) ← max_{a} Σ_{s'} T(s,a,s')\\large[R(s,a,s') + \\gamma V_{k}(s')\\large]$\n",
        "###### Let's start with the values of states set to zero\n",
        "\n",
        "\n",
        "$V_{0}(s(Productive)) = 0$ <br>\n",
        "$V_{0}(s(Exhausted)) = 0$ <br>\n",
        "$V_{0}(s(Fit)) = 0$ <br><br>\n",
        "$i=0$<br>\n",
        "\n",
        "$V_{1}(s(Productive)) = max[ 0.2 ( 30 + 0.86 * 0 ) $ (Staying in Productive)<br>\n",
        "&emsp;&emsp;&emsp;&emsp;&emsp;&emsp;&emsp;&emsp;&emsp;&emsp;&emsp;&emsp;&emsp;$0.8 ( 40 + 0.86 * 0 ) $ (Going to Exhausted)<br>\n",
        "&emsp;&emsp;&emsp;&emsp;&emsp;&emsp;&emsp;&emsp;&emsp;&emsp;&emsp;&emsp;&emsp;$1.0 ( -10 + 0.86 * 0 ) $ (Going to Fit)]<br>\n",
        "&emsp;&emsp;&emsp;&emsp;&emsp;&emsp;&emsp;&emsp;&emsp;&emsp; $= max[6, 32, -10] = 32$<br><br>\n",
        "\n",
        "$V_{1}(s(Exhausted)) = max[ 0.2 ( 0 + 0.86 * 0 ) $ (Staying in Exhausted)<br>\n",
        "&emsp;&emsp;&emsp;&emsp;&emsp;&emsp;&emsp;&emsp;&emsp;&emsp;&emsp;&emsp;&emsp;$0.8 ( 0 + 0.86 * 0 ) $ (Going to Productive)<br>\n",
        "&emsp;&emsp;&emsp;&emsp;&emsp;&emsp;&emsp;&emsp;&emsp;&emsp;&emsp;&emsp;&emsp;$0.5 ( -10 + 0.86 * 0 ) $ (Staying in Exhausted)<br>\n",
        "&emsp;&emsp;&emsp;&emsp;&emsp;&emsp;&emsp;&emsp;&emsp;&emsp;&emsp;&emsp;&emsp;$0.5 ( -10 + 0.86 * 0 ) $ (Going to Productive)<br>\n",
        "&emsp;&emsp;&emsp;&emsp;&emsp;&emsp;&emsp;&emsp;&emsp;&emsp;&emsp;&emsp;&emsp;$1.0 ( 20 + 0.86 * 0 ) $ (Staying in Exhausted)]<br>\n",
        "&emsp;&emsp;&emsp;&emsp;&emsp;&emsp;&emsp;&emsp;&emsp;&emsp; $= max[0, 0, -5, -5, 20] = 20$<br><br>\n",
        "\n",
        "$V_{1}(s(Fit)) = max[1.0 ( 100 + 0.86 * 0 )$ (Going in Exhausted)]<br>\n",
        "&emsp;&emsp;&emsp;&emsp;&emsp;&emsp;&emsp;&emsp;&emsp;&emsp; $= max[100] = 100$<br><br>\n",
        "\n",
        "<br><br>\n",
        "$V_{1}(s(Productive)) = 32$ <br>\n",
        "$V_{1}(s(Exhausted)) = 20$ <br>\n",
        "$V_{1}(s(Fit)) = 100$ <br><br>\n",
        "$i=1$<br>\n",
        "\n",
        "$V_{2}(s(Productive)) = max[ 0.2 ( 30 + 0.86 * 32 ) $ (Staying in Productive)<br>\n",
        "&emsp;&emsp;&emsp;&emsp;&emsp;&emsp;&emsp;&emsp;&emsp;&emsp;&emsp;&emsp;&emsp;$0.8 ( 40 + 0.86 * 20 ) $ (Going to Exhausted)<br>\n",
        "&emsp;&emsp;&emsp;&emsp;&emsp;&emsp;&emsp;&emsp;&emsp;&emsp;&emsp;&emsp;&emsp;$1.0 ( -10 + 0.86 * 100 ) $ (Going to Fit)]<br>\n",
        "&emsp;&emsp;&emsp;&emsp;&emsp;&emsp;&emsp;&emsp;&emsp;&emsp; $= max[11.504, 45.76, 76] = 76$<br><br>\n",
        "\n",
        "$V_{2}(s(Exhausted)) = max[ 0.2 ( 0 + 0.86 * 20 ) $ (Staying in Exhausted)<br>\n",
        "&emsp;&emsp;&emsp;&emsp;&emsp;&emsp;&emsp;&emsp;&emsp;&emsp;&emsp;&emsp;&emsp;$0.8 ( 0 + 0.86 * 32 ) $ (Going to Productive)<br>\n",
        "&emsp;&emsp;&emsp;&emsp;&emsp;&emsp;&emsp;&emsp;&emsp;&emsp;&emsp;&emsp;&emsp;$0.5 ( -10 + 0.86 * 20 ) $ (Staying in Exhausted)<br>\n",
        "&emsp;&emsp;&emsp;&emsp;&emsp;&emsp;&emsp;&emsp;&emsp;&emsp;&emsp;&emsp;&emsp;$0.5 ( -10 + 0.86 * 32 ) $ (Going to Productive)<br>\n",
        "&emsp;&emsp;&emsp;&emsp;&emsp;&emsp;&emsp;&emsp;&emsp;&emsp;&emsp;&emsp;&emsp;$1.0 ( 20 + 0.86 * 20 ) $ (Staying in Exhausted)]<br>\n",
        "&emsp;&emsp;&emsp;&emsp;&emsp;&emsp;&emsp;&emsp;&emsp;&emsp; $= max[3.44, 22.016, 3.6, 8.76, 37.2] = 37.2$<br><br>\n",
        "\n",
        "$V_{2}(s(Fit)) = max[1.0 ( 100 + 0.86 * 20 )$ (Going in Exhausted)]<br>\n",
        "&emsp;&emsp;&emsp;&emsp;&emsp;&emsp;&emsp;&emsp;&emsp;&emsp; $= max[117.2] = 117.2$<br><br>\n",
        "\n",
        "<br><br>\n",
        "$V_{2}(s(Productive)) = 76$ <br>\n",
        "$V_{2}(s(Exhausted)) = 37.2$ <br>\n",
        "$V_{2}(s(Fit)) = 117.2$ <br><br>\n",
        "$i=2$<br>\n",
        "\n",
        "$V_{3}(s(Productive)) = max[ 0.2 ( 30 + 0.86 * 76 ) $ (Staying in Productive)<br>\n",
        "&emsp;&emsp;&emsp;&emsp;&emsp;&emsp;&emsp;&emsp;&emsp;&emsp;&emsp;&emsp;&emsp;$0.8 ( 40 + 0.86 * 37.2 ) $ (Going to Exhausted)<br>\n",
        "&emsp;&emsp;&emsp;&emsp;&emsp;&emsp;&emsp;&emsp;&emsp;&emsp;&emsp;&emsp;&emsp;$1.0 ( -10 + 0.86 * 117.2 ) $ (Going to Fit)]<br>\n",
        "&emsp;&emsp;&emsp;&emsp;&emsp;&emsp;&emsp;&emsp;&emsp;&emsp; $= max[19.072, 57.5936, 90.792] = 90.792$<br><br>\n",
        "\n",
        "$V_{3}(s(Exhausted)) = max[ 0.2 ( 0 + 0.86 * 37.2 ) $ (Staying in Exhausted)<br>\n",
        "&emsp;&emsp;&emsp;&emsp;&emsp;&emsp;&emsp;&emsp;&emsp;&emsp;&emsp;&emsp;&emsp;$0.8 ( 0 + 0.86 * 76 ) $ (Going to Productive)<br>\n",
        "&emsp;&emsp;&emsp;&emsp;&emsp;&emsp;&emsp;&emsp;&emsp;&emsp;&emsp;&emsp;&emsp;$0.5 ( -10 + 0.86 * 37.2 ) $ (Staying in Exhausted)<br>\n",
        "&emsp;&emsp;&emsp;&emsp;&emsp;&emsp;&emsp;&emsp;&emsp;&emsp;&emsp;&emsp;&emsp;$0.5 ( -10 + 0.86 * 76 ) $ (Going to Productive)<br>\n",
        "&emsp;&emsp;&emsp;&emsp;&emsp;&emsp;&emsp;&emsp;&emsp;&emsp;&emsp;&emsp;&emsp;$1.0 ( 20 + 0.86 * 37.2 ) $ (Staying in Exhausted)]<br>\n",
        "&emsp;&emsp;&emsp;&emsp;&emsp;&emsp;&emsp;&emsp;&emsp;&emsp; $= max[6.3984, 52.288, 10.996, 27.68, 51.992] = 52.288$<br><br>\n",
        "\n",
        "$V_{3}(s(Fit)) = max[1.0 ( 100 + 0.86 * 37.2 )$ (Going in Exhausted)]<br>\n",
        "&emsp;&emsp;&emsp;&emsp;&emsp;&emsp;&emsp;&emsp;&emsp;&emsp; $= max[131.992] = 131.992$<br><br>\n",
        "\n",
        "\n",
        "<br><br>\n",
        "$V_{3}(s(Productive)) = 90.792$ <br>\n",
        "$V_{3}(s(Exhausted)) = 52.288$ <br>\n",
        "$V_{3}(s(Fit)) = 131.992$ <br><br>\n",
        "$i=3$<br>\n",
        "\n",
        "$V_{4}(s(Productive)) = max[ 0.2 ( 30 + 0.86 * 90.792 ) $ (Staying in Productive)<br>\n",
        "&emsp;&emsp;&emsp;&emsp;&emsp;&emsp;&emsp;&emsp;&emsp;&emsp;&emsp;&emsp;&emsp;$0.8 ( 40 + 0.86 * 52.288 ) $ (Going to Exhausted)<br>\n",
        "&emsp;&emsp;&emsp;&emsp;&emsp;&emsp;&emsp;&emsp;&emsp;&emsp;&emsp;&emsp;&emsp;$1.0 ( -10 + 0.86 * 131.992 ) $ (Going to Fit)]<br>\n",
        "&emsp;&emsp;&emsp;&emsp;&emsp;&emsp;&emsp;&emsp;&emsp;&emsp; $= max[21.616224, 67.974144, 103.51312] = 103.51312$<br><br>\n",
        "\n",
        "$V_{4}(s(Exhausted)) = max[ 0.2 ( 0 + 0.86 * 52.288 ) $ (Staying in Exhausted)<br>\n",
        "&emsp;&emsp;&emsp;&emsp;&emsp;&emsp;&emsp;&emsp;&emsp;&emsp;&emsp;&emsp;&emsp;$0.8 ( 0 + 0.86 * 90.792 ) $ (Going to Productive)<br>\n",
        "&emsp;&emsp;&emsp;&emsp;&emsp;&emsp;&emsp;&emsp;&emsp;&emsp;&emsp;&emsp;&emsp;$0.5 ( -10 + 0.86 * 52.288 ) $ (Staying in Exhausted)<br>\n",
        "&emsp;&emsp;&emsp;&emsp;&emsp;&emsp;&emsp;&emsp;&emsp;&emsp;&emsp;&emsp;&emsp;$0.5 ( -10 + 0.86 * 90.792 ) $ (Going to Productive)<br>\n",
        "&emsp;&emsp;&emsp;&emsp;&emsp;&emsp;&emsp;&emsp;&emsp;&emsp;&emsp;&emsp;&emsp;$1.0 ( 20 + 0.86 * 52.288 ) $ (Staying in Exhausted)]<br>\n",
        "&emsp;&emsp;&emsp;&emsp;&emsp;&emsp;&emsp;&emsp;&emsp;&emsp; $= max[8.993536, 62.464896, 17.48384, 34.04056, 64.96768] = 64.96768$<br><br>\n",
        "\n",
        "$V_{4}(s(Fit)) = max[1.0 ( 100 + 0.86 * 52.288 )$ (Going in Exhausted)]<br>\n",
        "&emsp;&emsp;&emsp;&emsp;&emsp;&emsp;&emsp;&emsp;&emsp;&emsp; $= max[144.96768] = 144.96768$<br><br>\n",
        "\n",
        "\n",
        "<br><br>\n",
        "$V_{4}(s(Productive)) = 103.51312$ <br>\n",
        "$V_{4}(s(Exhausted)) = 64.96768$ <br>\n",
        "$V_{4}(s(Fit)) = 144.96768$ <br><br>\n",
        "$i=4$<br>\n",
        "\n",
        "$V_{5}(s(Productive)) = max[ 0.2 ( 30 + 0.86 * 103.51312 ) $ (Staying in Productive)<br>\n",
        "&emsp;&emsp;&emsp;&emsp;&emsp;&emsp;&emsp;&emsp;&emsp;&emsp;&emsp;&emsp;&emsp;$0.8 ( 40 + 0.86 * 64.96768 ) $ (Going to Exhausted)<br>\n",
        "&emsp;&emsp;&emsp;&emsp;&emsp;&emsp;&emsp;&emsp;&emsp;&emsp;&emsp;&emsp;&emsp;$1.0 ( -10 + 0.86 * 144.96768 ) $ (Going to Fit)]<br>\n",
        "&emsp;&emsp;&emsp;&emsp;&emsp;&emsp;&emsp;&emsp;&emsp;&emsp; $= max[23.80425664, 76.69776384, 114.6722048] = 114.6722048$<br><br>\n",
        "\n",
        "$V_{5}(s(Exhausted)) = max[ 0.2 ( 0 + 0.86 * 64.96768 ) $ (Staying in Exhausted)<br>\n",
        "&emsp;&emsp;&emsp;&emsp;&emsp;&emsp;&emsp;&emsp;&emsp;&emsp;&emsp;&emsp;&emsp;$0.8 ( 0 + 0.86 * 103.51312 ) $ (Going to Productive)<br>\n",
        "&emsp;&emsp;&emsp;&emsp;&emsp;&emsp;&emsp;&emsp;&emsp;&emsp;&emsp;&emsp;&emsp;$0.5 ( -10 + 0.86 * 64.96768 ) $ (Staying in Exhausted)<br>\n",
        "&emsp;&emsp;&emsp;&emsp;&emsp;&emsp;&emsp;&emsp;&emsp;&emsp;&emsp;&emsp;&emsp;$0.5 ( -10 + 0.86 * 103.51312 ) $ (Going to Productive)<br>\n",
        "&emsp;&emsp;&emsp;&emsp;&emsp;&emsp;&emsp;&emsp;&emsp;&emsp;&emsp;&emsp;&emsp;$1.0 ( 20 + 0.86 * 64.96768 ) $ (Staying in Exhausted)]<br>\n",
        "&emsp;&emsp;&emsp;&emsp;&emsp;&emsp;&emsp;&emsp;&emsp;&emsp; $= max[11.17444096, 71.21702656, 22.9361024, 39.5106416, 75.8722048] = 75.8722048$<br><br>\n",
        "\n",
        "$V_{5}(s(Fit)) = max[1.0 ( 100 + 0.86 * 64.96768 )$ (Going in Exhausted)]<br>\n",
        "&emsp;&emsp;&emsp;&emsp;&emsp;&emsp;&emsp;&emsp;&emsp;&emsp; $= max[155.8722048] = 155.8722048$<br><br>\n",
        "\n",
        "\n",
        "<br><br>\n",
        "$V_{5}(s(Productive)) = 114.6722048$ <br>\n",
        "$V_{5}(s(Exhausted)) = 75.8722048$ <br>\n",
        "$V_{5}(s(Fit)) = 155.8722048$ <br><br>\n",
        "$i=5$<br>\n",
        "\n",
        "$V_{6}(s(Productive)) = max[ 0.2 ( 30 + 0.86 * 114.6722048 ) $ (Staying in Productive)<br>\n",
        "&emsp;&emsp;&emsp;&emsp;&emsp;&emsp;&emsp;&emsp;&emsp;&emsp;&emsp;&emsp;&emsp;$0.8 ( 40 + 0.86 * 75.8722048 ) $ (Going to Exhausted)<br>\n",
        "&emsp;&emsp;&emsp;&emsp;&emsp;&emsp;&emsp;&emsp;&emsp;&emsp;&emsp;&emsp;&emsp;$1.0 ( -10 + 0.86 * 155.8722048 ) $ (Going to Fit)]<br>\n",
        "&emsp;&emsp;&emsp;&emsp;&emsp;&emsp;&emsp;&emsp;&emsp;&emsp; $= max[25.72361923, 84.2000769, 124.0500961] = 124.0500961$<br><br>\n",
        "\n",
        "$V_{6}(s(Exhausted)) = max[ 0.2 ( 0 + 0.86 * 75.8722048 ) $ (Staying in Exhausted)<br>\n",
        "&emsp;&emsp;&emsp;&emsp;&emsp;&emsp;&emsp;&emsp;&emsp;&emsp;&emsp;&emsp;&emsp;$0.8 ( 0 + 0.86 * 114.6722048 ) $ (Going to Productive)<br>\n",
        "&emsp;&emsp;&emsp;&emsp;&emsp;&emsp;&emsp;&emsp;&emsp;&emsp;&emsp;&emsp;&emsp;$0.5 ( -10 + 0.86 * 75.8722048 ) $ (Staying in Exhausted)<br>\n",
        "&emsp;&emsp;&emsp;&emsp;&emsp;&emsp;&emsp;&emsp;&emsp;&emsp;&emsp;&emsp;&emsp;$0.5 ( -10 + 0.86 * 114.6722048 ) $ (Going to Productive)<br>\n",
        "&emsp;&emsp;&emsp;&emsp;&emsp;&emsp;&emsp;&emsp;&emsp;&emsp;&emsp;&emsp;&emsp;$1.0 ( 20 + 0.86 * 75.8722048 ) $ (Staying in Exhausted)]<br>\n",
        "&emsp;&emsp;&emsp;&emsp;&emsp;&emsp;&emsp;&emsp;&emsp;&emsp; $= max[13.05001923, 78.8944769, 27.62504806, 44.30904806, 85.25009613] = 85.25009613$<br><br>\n",
        "\n",
        "$V_{6}(s(Fit)) = max[1.0 ( 100 + 0.86 * 75.8722048 )$ (Going in Exhausted)]<br>\n",
        "&emsp;&emsp;&emsp;&emsp;&emsp;&emsp;&emsp;&emsp;&emsp;&emsp; $= max[165.2500961] = 165.2500961$<br><br>\n",
        "\n",
        "\n",
        "<br><br>\n",
        "$V_{6}(s(Productive)) = 124.0500961$ <br>\n",
        "$V_{6}(s(Exhausted)) = 85.25009613$ <br>\n",
        "$V_{6}(s(Fit)) = 165.2500961$ <br><br>\n",
        "$i=6$<br>\n",
        "\n",
        "$V_{7}(s(Productive)) = max[ 0.2 ( 30 + 0.86 * 124.0500961 ) $ (Staying in Productive)<br>\n",
        "&emsp;&emsp;&emsp;&emsp;&emsp;&emsp;&emsp;&emsp;&emsp;&emsp;&emsp;&emsp;&emsp;$0.8 ( 40 + 0.86 * 85.25009613 ) $ (Going to Exhausted)<br>\n",
        "&emsp;&emsp;&emsp;&emsp;&emsp;&emsp;&emsp;&emsp;&emsp;&emsp;&emsp;&emsp;&emsp;$1.0 ( -10 + 0.86 * 165.2500961 ) $ (Going to Fit)]<br>\n",
        "&emsp;&emsp;&emsp;&emsp;&emsp;&emsp;&emsp;&emsp;&emsp;&emsp; $= max[27.33661653, 90.65206614, 132.1150826] = 132.1150826$<br><br>\n",
        "\n",
        "$V_{7}(s(Exhausted)) = max[ 0.2 ( 0 + 0.86 * 85.25009613 ) $ (Staying in Exhausted)<br>\n",
        "&emsp;&emsp;&emsp;&emsp;&emsp;&emsp;&emsp;&emsp;&emsp;&emsp;&emsp;&emsp;&emsp;$0.8 ( 0 + 0.86 * 124.0500961 ) $ (Going to Productive)<br>\n",
        "&emsp;&emsp;&emsp;&emsp;&emsp;&emsp;&emsp;&emsp;&emsp;&emsp;&emsp;&emsp;&emsp;$0.5 ( -10 + 0.86 * 85.25009613 ) $ (Staying in Exhausted)<br>\n",
        "&emsp;&emsp;&emsp;&emsp;&emsp;&emsp;&emsp;&emsp;&emsp;&emsp;&emsp;&emsp;&emsp;$0.5 ( -10 + 0.86 * 124.0500961 ) $ (Going to Productive)<br>\n",
        "&emsp;&emsp;&emsp;&emsp;&emsp;&emsp;&emsp;&emsp;&emsp;&emsp;&emsp;&emsp;&emsp;$1.0 ( 20 + 0.86 * 85.25009613 ) $ (Staying in Exhausted)]<br>\n",
        "&emsp;&emsp;&emsp;&emsp;&emsp;&emsp;&emsp;&emsp;&emsp;&emsp; $= max[14.66301653, 85.34646612, 31.65754134, 48.34154132, 93.31508267] = 93.31508267$<br><br>\n",
        "\n",
        "$V_{7}(s(Fit)) = max[1.0 ( 100 + 0.86 * 85.25009613 )$ (Going in Exhausted)]<br>\n",
        "&emsp;&emsp;&emsp;&emsp;&emsp;&emsp;&emsp;&emsp;&emsp;&emsp; $= max[173.3150827] = 173.3150827$<br><br>\n",
        "\n",
        "\n",
        "<br><br>\n",
        "$V_{7}(s(Productive)) = 132.1150826$ <br>\n",
        "$V_{7}(s(Exhausted)) = 93.31508267$ <br>\n",
        "$V_{7}(s(Fit)) = 173.3150827$ <br><br>\n",
        "$i=7$<br>\n",
        "\n",
        "$V_{8}(s(Productive)) = max[ 0.2 ( 30 + 0.86 * 132.1150826 ) $ (Staying in Productive)<br>\n",
        "&emsp;&emsp;&emsp;&emsp;&emsp;&emsp;&emsp;&emsp;&emsp;&emsp;&emsp;&emsp;&emsp;$0.8 ( 40 + 0.86 * 93.31508267 ) $ (Going to Exhausted)<br>\n",
        "&emsp;&emsp;&emsp;&emsp;&emsp;&emsp;&emsp;&emsp;&emsp;&emsp;&emsp;&emsp;&emsp;$1.0 ( -10 + 0.86 * 173.3150827 ) $ (Going to Fit)]<br>\n",
        "&emsp;&emsp;&emsp;&emsp;&emsp;&emsp;&emsp;&emsp;&emsp;&emsp; $= max[28.72379421, 96.20077688, 139.0509711] = 139.0509711$<br><br>\n",
        "\n",
        "$V_{8}(s(Exhausted)) = max[ 0.2 ( 0 + 0.86 * 93.31508267 ) $ (Staying in Exhausted)<br>\n",
        "&emsp;&emsp;&emsp;&emsp;&emsp;&emsp;&emsp;&emsp;&emsp;&emsp;&emsp;&emsp;&emsp;$0.8 ( 0 + 0.86 * 132.1150826 ) $ (Going to Productive)<br>\n",
        "&emsp;&emsp;&emsp;&emsp;&emsp;&emsp;&emsp;&emsp;&emsp;&emsp;&emsp;&emsp;&emsp;$0.5 ( -10 + 0.86 * 93.31508267 ) $ (Staying in Exhausted)<br>\n",
        "&emsp;&emsp;&emsp;&emsp;&emsp;&emsp;&emsp;&emsp;&emsp;&emsp;&emsp;&emsp;&emsp;$0.5 ( -10 + 0.86 * 132.1150826 ) $ (Going to Productive)<br>\n",
        "&emsp;&emsp;&emsp;&emsp;&emsp;&emsp;&emsp;&emsp;&emsp;&emsp;&emsp;&emsp;&emsp;$1.0 ( 20 + 0.86 * 93.31508267 ) $ (Staying in Exhausted)]<br>\n",
        "&emsp;&emsp;&emsp;&emsp;&emsp;&emsp;&emsp;&emsp;&emsp;&emsp; $= max[16.05019422, 90.89517683, 35.12548555, 51.80948552, 100.2509711] = 100.2509711$<br><br>\n",
        "\n",
        "$V_{8}(s(Fit)) = max[1.0 ( 100 + 0.86 * 93.31508267 )$ (Going in Exhausted)]<br>\n",
        "&emsp;&emsp;&emsp;&emsp;&emsp;&emsp;&emsp;&emsp;&emsp;&emsp; $= max[180.2509711] = 180.2509711$<br><br>\n",
        "\n",
        "\n",
        "<br><br>\n",
        "$V_{8}(s(Productive)) = 139.0509711$ <br>\n",
        "$V_{8}(s(Exhausted)) = 100.2509711$ <br>\n",
        "$V_{8}(s(Fit)) = 180.2509711$ <br><br>\n",
        "$i=8$<br>\n",
        "\n",
        "$V_{9}(s(Productive)) = max[ 0.2 ( 30 + 0.86 * 139.0509711 ) $ (Staying in Productive)<br>\n",
        "&emsp;&emsp;&emsp;&emsp;&emsp;&emsp;&emsp;&emsp;&emsp;&emsp;&emsp;&emsp;&emsp;$0.8 ( 40 + 0.86 * 100.2509711 ) $ (Going to Exhausted)<br>\n",
        "&emsp;&emsp;&emsp;&emsp;&emsp;&emsp;&emsp;&emsp;&emsp;&emsp;&emsp;&emsp;&emsp;$1.0 ( -10 + 0.86 * 180.2509711 ) $ (Going to Fit)]<br>\n",
        "&emsp;&emsp;&emsp;&emsp;&emsp;&emsp;&emsp;&emsp;&emsp;&emsp; $= max[29.91676703, 100.9726681, 145.0158351] = 145.0158351$<br><br>\n",
        "\n",
        "$V_{9}(s(Exhausted)) = max[ 0.2 ( 0 + 0.86 * 100.2509711 ) $ (Staying in Exhausted)<br>\n",
        "&emsp;&emsp;&emsp;&emsp;&emsp;&emsp;&emsp;&emsp;&emsp;&emsp;&emsp;&emsp;&emsp;$0.8 ( 0 + 0.86 * 139.0509711 ) $ (Going to Productive)<br>\n",
        "&emsp;&emsp;&emsp;&emsp;&emsp;&emsp;&emsp;&emsp;&emsp;&emsp;&emsp;&emsp;&emsp;$0.5 ( -10 + 0.86 * 100.2509711 ) $ (Staying in Exhausted)<br>\n",
        "&emsp;&emsp;&emsp;&emsp;&emsp;&emsp;&emsp;&emsp;&emsp;&emsp;&emsp;&emsp;&emsp;$0.5 ( -10 + 0.86 * 139.0509711 ) $ (Going to Productive)<br>\n",
        "&emsp;&emsp;&emsp;&emsp;&emsp;&emsp;&emsp;&emsp;&emsp;&emsp;&emsp;&emsp;&emsp;$1.0 ( 20 + 0.86 * 100.2509711 ) $ (Staying in Exhausted)]<br>\n",
        "&emsp;&emsp;&emsp;&emsp;&emsp;&emsp;&emsp;&emsp;&emsp;&emsp; $= max[17.24316703, 95.66706812, 38.10791757, 54.79191757, 106.2158351] = 106.2158351$<br><br>\n",
        "\n",
        "$V_{9}(s(Fit)) = max[1.0 ( 100 + 0.86 * 100.2509711 )$ (Going in Exhausted)]<br>\n",
        "&emsp;&emsp;&emsp;&emsp;&emsp;&emsp;&emsp;&emsp;&emsp;&emsp; $= max[186.2158351] = 186.2158351$<br><br>\n",
        "\n",
        "\n",
        "<br><br>\n",
        "$V_{9}(s(Productive)) = 145.0158351$ <br>\n",
        "$V_{9}(s(Exhausted)) = 106.2158351$ <br>\n",
        "$V_{9}(s(Fit)) = 186.2158351$ <br><br>\n",
        "$i=9$<br>\n",
        "\n",
        "$V_{10}(s(Productive)) = max[ 0.2 ( 30 + 0.86 * 145.0158351 ) $ (Staying in Productive)<br>\n",
        "&emsp;&emsp;&emsp;&emsp;&emsp;&emsp;&emsp;&emsp;&emsp;&emsp;&emsp;&emsp;&emsp;$0.8 ( 40 + 0.86 * 106.2158351 ) $ (Going to Exhausted)<br>\n",
        "&emsp;&emsp;&emsp;&emsp;&emsp;&emsp;&emsp;&emsp;&emsp;&emsp;&emsp;&emsp;&emsp;$1.0 ( -10 + 0.86 * 186.2158351 ) $ (Going to Fit)]<br>\n",
        "&emsp;&emsp;&emsp;&emsp;&emsp;&emsp;&emsp;&emsp;&emsp;&emsp; $= max[30.94272364, 105.0764945, 150.1456182] = 150.1456182$<br><br>\n",
        "\n",
        "$V_{10}(s(Exhausted)) = max[ 0.2 ( 0 + 0.86 * 106.2158351 ) $ (Staying in Exhausted)<br>\n",
        "&emsp;&emsp;&emsp;&emsp;&emsp;&emsp;&emsp;&emsp;&emsp;&emsp;&emsp;&emsp;&emsp;$0.8 ( 0 + 0.86 * 145.0158351 ) $ (Going to Productive)<br>\n",
        "&emsp;&emsp;&emsp;&emsp;&emsp;&emsp;&emsp;&emsp;&emsp;&emsp;&emsp;&emsp;&emsp;$0.5 ( -10 + 0.86 * 106.2158351 ) $ (Staying in Exhausted)<br>\n",
        "&emsp;&emsp;&emsp;&emsp;&emsp;&emsp;&emsp;&emsp;&emsp;&emsp;&emsp;&emsp;&emsp;$0.5 ( -10 + 0.86 * 145.0158351 ) $ (Going to Productive)<br>\n",
        "&emsp;&emsp;&emsp;&emsp;&emsp;&emsp;&emsp;&emsp;&emsp;&emsp;&emsp;&emsp;&emsp;$1.0 ( 20 + 0.86 * 106.2158351 ) $ (Staying in Exhausted)]<br>\n",
        "&emsp;&emsp;&emsp;&emsp;&emsp;&emsp;&emsp;&emsp;&emsp;&emsp; $= max[18.26912364, 99.77089455, 40.67280909, 57.35680909, 111.3456182] = 111.3456182$<br><br>\n",
        "\n",
        "$V_{10}(s(Fit)) = max[1.0 ( 100 + 0.86 * 106.2158351 )$ (Going in Exhausted)]<br>\n",
        "&emsp;&emsp;&emsp;&emsp;&emsp;&emsp;&emsp;&emsp;&emsp;&emsp; $= max[191.3456182] = 191.3456182$<br><br>\n",
        "\n",
        "\n",
        "<br><br>\n",
        "$V_{10}(s(Productive)) = 150.1456182$ <br>\n",
        "$V_{10}(s(Exhausted)) = 111.3456182$ <br>\n",
        "$V_{10}(s(Fit)) = 191.3456182$ <br><br>\n",
        "$i=10$<br>\n",
        "\n",
        "$V_{11}(s(Productive)) = max[ 0.2 ( 30 + 0.86 * 150.1456182 ) $ (Staying in Productive)<br>\n",
        "&emsp;&emsp;&emsp;&emsp;&emsp;&emsp;&emsp;&emsp;&emsp;&emsp;&emsp;&emsp;&emsp;$0.8 ( 40 + 0.86 * 111.3456182 ) $ (Going to Exhausted)<br>\n",
        "&emsp;&emsp;&emsp;&emsp;&emsp;&emsp;&emsp;&emsp;&emsp;&emsp;&emsp;&emsp;&emsp;$1.0 ( -10 + 0.86 * 191.3456182 ) $ (Going to Fit)]<br>\n",
        "&emsp;&emsp;&emsp;&emsp;&emsp;&emsp;&emsp;&emsp;&emsp;&emsp; $= max[31.82504633, 108.6057853, 154.5572317] = 154.5572317$<br><br>\n",
        "\n",
        "$V_{11}(s(Exhausted)) = max[ 0.2 ( 0 + 0.86 * 111.3456182 ) $ (Staying in Exhausted)<br>\n",
        "&emsp;&emsp;&emsp;&emsp;&emsp;&emsp;&emsp;&emsp;&emsp;&emsp;&emsp;&emsp;&emsp;$0.8 ( 0 + 0.86 * 150.1456182 ) $ (Going to Productive)<br>\n",
        "&emsp;&emsp;&emsp;&emsp;&emsp;&emsp;&emsp;&emsp;&emsp;&emsp;&emsp;&emsp;&emsp;$0.5 ( -10 + 0.86 * 111.3456182 ) $ (Staying in Exhausted)<br>\n",
        "&emsp;&emsp;&emsp;&emsp;&emsp;&emsp;&emsp;&emsp;&emsp;&emsp;&emsp;&emsp;&emsp;$0.5 ( -10 + 0.86 * 150.1456182 ) $ (Going to Productive)<br>\n",
        "&emsp;&emsp;&emsp;&emsp;&emsp;&emsp;&emsp;&emsp;&emsp;&emsp;&emsp;&emsp;&emsp;$1.0 ( 20 + 0.86 * 111.3456182 ) $ (Staying in Exhausted)]<br>\n",
        "&emsp;&emsp;&emsp;&emsp;&emsp;&emsp;&emsp;&emsp;&emsp;&emsp; $= max[19.15144633, 103.3001853, 42.87861583, 57.35680909, 115.7572317] = 115.7572317$<br><br>\n",
        "\n",
        "$V_{11}(s(Fit)) = max[1.0 ( 100 + 0.86 * 111.3456182 )$ (Going in Exhausted)]<br>\n",
        "&emsp;&emsp;&emsp;&emsp;&emsp;&emsp;&emsp;&emsp;&emsp;&emsp; $= max[195.7572317] = 195.7572317$<br><br>\n",
        "\n",
        "\n",
        "<br><br>\n",
        "$V_{11}(s(Productive)) = 154.5572317$ <br>\n",
        "$V_{11}(s(Exhausted)) = 115.7572317$ <br>\n",
        "$V_{11}(s(Fit)) = 195.7572317$ <br><br>\n",
        "$i=11$<br>\n",
        "\n",
        "$V_{12}(s(Productive)) = max[ 0.2 ( 30 + 0.86 * 154.5572317 ) $ (Staying in Productive)<br>\n",
        "&emsp;&emsp;&emsp;&emsp;&emsp;&emsp;&emsp;&emsp;&emsp;&emsp;&emsp;&emsp;&emsp;$0.8 ( 40 + 0.86 * 115.7572317 ) $ (Going to Exhausted)<br>\n",
        "&emsp;&emsp;&emsp;&emsp;&emsp;&emsp;&emsp;&emsp;&emsp;&emsp;&emsp;&emsp;&emsp;$1.0 ( -10 + 0.86 * 195.7572317 ) $ (Going to Fit)]<br>\n",
        "&emsp;&emsp;&emsp;&emsp;&emsp;&emsp;&emsp;&emsp;&emsp;&emsp; $= max[32.58384385, 111.6409754, 158.3512193] = 158.3512193$<br><br>\n",
        "\n",
        "$V_{12}(s(Exhausted)) = max[ 0.2 ( 0 + 0.86 * 115.7572317 ) $ (Staying in Exhausted)<br>\n",
        "&emsp;&emsp;&emsp;&emsp;&emsp;&emsp;&emsp;&emsp;&emsp;&emsp;&emsp;&emsp;&emsp;$0.8 ( 0 + 0.86 * 154.5572317 ) $ (Going to Productive)<br>\n",
        "&emsp;&emsp;&emsp;&emsp;&emsp;&emsp;&emsp;&emsp;&emsp;&emsp;&emsp;&emsp;&emsp;$0.5 ( -10 + 0.86 * 115.7572317 ) $ (Staying in Exhausted)<br>\n",
        "&emsp;&emsp;&emsp;&emsp;&emsp;&emsp;&emsp;&emsp;&emsp;&emsp;&emsp;&emsp;&emsp;$0.5 ( -10 + 0.86 * 154.5572317 ) $ (Going to Productive)<br>\n",
        "&emsp;&emsp;&emsp;&emsp;&emsp;&emsp;&emsp;&emsp;&emsp;&emsp;&emsp;&emsp;&emsp;$1.0 ( 20 + 0.86 * 115.7572317 ) $ (Staying in Exhausted)]<br>\n",
        "&emsp;&emsp;&emsp;&emsp;&emsp;&emsp;&emsp;&emsp;&emsp;&emsp; $= max[19.91024385, 106.3353754, 44.77560963, 61.45960963, 119.5512193] = 119.5512193$<br><br>\n",
        "\n",
        "$V_{12}(s(Fit)) = max[1.0 ( 100 + 0.86 * 115.7572317 )$ (Going in Exhausted)]<br>\n",
        "&emsp;&emsp;&emsp;&emsp;&emsp;&emsp;&emsp;&emsp;&emsp;&emsp; $= max[199.5512193] = 199.5512193$<br><br>\n",
        "\n",
        "\n",
        "<br><br>\n",
        "$V_{12}(s(Productive)) = 158.3512193$ <br>\n",
        "$V_{12}(s(Exhausted)) = 119.5512193$ <br>\n",
        "$V_{12}(s(Fit)) = 199.5512193$ <br><br>\n",
        "$i=12$<br>\n",
        "\n",
        "$V_{13}(s(Productive)) = max[ 0.2 ( 30 + 0.86 * 158.3512193 ) $ (Staying in Productive)<br>\n",
        "&emsp;&emsp;&emsp;&emsp;&emsp;&emsp;&emsp;&emsp;&emsp;&emsp;&emsp;&emsp;&emsp;$0.8 ( 40 + 0.86 * 119.5512193 ) $ (Going to Exhausted)<br>\n",
        "&emsp;&emsp;&emsp;&emsp;&emsp;&emsp;&emsp;&emsp;&emsp;&emsp;&emsp;&emsp;&emsp;$1.0 ( -10 + 0.86 * 199.5512193 ) $ (Going to Fit)]<br>\n",
        "&emsp;&emsp;&emsp;&emsp;&emsp;&emsp;&emsp;&emsp;&emsp;&emsp; $= max[33.23640972, 114.2512389, 161.6140486] = 161.6140486$<br><br>\n",
        "\n",
        "$V_{13}(s(Exhausted)) = max[ 0.2 ( 0 + 0.86 * 119.5512193 ) $ (Staying in Exhausted)<br>\n",
        "&emsp;&emsp;&emsp;&emsp;&emsp;&emsp;&emsp;&emsp;&emsp;&emsp;&emsp;&emsp;&emsp;$0.8 ( 0 + 0.86 * 158.3512193 ) $ (Going to Productive)<br>\n",
        "&emsp;&emsp;&emsp;&emsp;&emsp;&emsp;&emsp;&emsp;&emsp;&emsp;&emsp;&emsp;&emsp;$0.5 ( -10 + 0.86 * 119.5512193 ) $ (Staying in Exhausted)<br>\n",
        "&emsp;&emsp;&emsp;&emsp;&emsp;&emsp;&emsp;&emsp;&emsp;&emsp;&emsp;&emsp;&emsp;$0.5 ( -10 + 0.86 * 158.3512193 ) $ (Going to Productive)<br>\n",
        "&emsp;&emsp;&emsp;&emsp;&emsp;&emsp;&emsp;&emsp;&emsp;&emsp;&emsp;&emsp;&emsp;$1.0 ( 20 + 0.86 * 119.5512193 ) $ (Staying in Exhausted)]<br>\n",
        "&emsp;&emsp;&emsp;&emsp;&emsp;&emsp;&emsp;&emsp;&emsp;&emsp; $= max[20.56280972, 108.9456389, 46.4070243, 63.0910243, 122.8140486] = 122.8140486$<br><br>\n",
        "\n",
        "$V_{13}(s(Fit)) = max[1.0 ( 100 + 0.86 * 119.5512193 )$ (Going in Exhausted)]<br>\n",
        "&emsp;&emsp;&emsp;&emsp;&emsp;&emsp;&emsp;&emsp;&emsp;&emsp; $= max[202.8140486] = 202.8140486$<br><br>\n",
        "\n",
        "\n",
        "<br><br>\n",
        "$V_{13}(s(Productive)) = 161.6140486$ <br>\n",
        "$V_{13}(s(Exhausted)) = 122.8140486$ <br>\n",
        "$V_{13}(s(Fit)) = 202.8140486$ <br><br>\n",
        "$i=13$<br>\n",
        "\n",
        "$V_{14}(s(Productive)) = max[ 0.2 ( 30 + 0.86 * 161.6140486 ) $ (Staying in Productive)<br>\n",
        "&emsp;&emsp;&emsp;&emsp;&emsp;&emsp;&emsp;&emsp;&emsp;&emsp;&emsp;&emsp;&emsp;$0.8 ( 40 + 0.86 * 122.8140486 ) $ (Going to Exhausted)<br>\n",
        "&emsp;&emsp;&emsp;&emsp;&emsp;&emsp;&emsp;&emsp;&emsp;&emsp;&emsp;&emsp;&emsp;$1.0 ( -10 + 0.86 * 202.8140486 ) $ (Going to Fit)]<br>\n",
        "&emsp;&emsp;&emsp;&emsp;&emsp;&emsp;&emsp;&emsp;&emsp;&emsp; $= max[33.79761636, 116.4960654, 164.4200818] = 164.4200818$<br><br>\n",
        "\n",
        "$V_{14}(s(Exhausted)) = max[ 0.2 ( 0 + 0.86 * 122.8140486 ) $ (Staying in Exhausted)<br>\n",
        "&emsp;&emsp;&emsp;&emsp;&emsp;&emsp;&emsp;&emsp;&emsp;&emsp;&emsp;&emsp;&emsp;$0.8 ( 0 + 0.86 * 161.6140486 ) $ (Going to Productive)<br>\n",
        "&emsp;&emsp;&emsp;&emsp;&emsp;&emsp;&emsp;&emsp;&emsp;&emsp;&emsp;&emsp;&emsp;$0.5 ( -10 + 0.86 * 122.8140486 ) $ (Staying in Exhausted)<br>\n",
        "&emsp;&emsp;&emsp;&emsp;&emsp;&emsp;&emsp;&emsp;&emsp;&emsp;&emsp;&emsp;&emsp;$0.5 ( -10 + 0.86 * 161.6140486 ) $ (Going to Productive)<br>\n",
        "&emsp;&emsp;&emsp;&emsp;&emsp;&emsp;&emsp;&emsp;&emsp;&emsp;&emsp;&emsp;&emsp;$1.0 ( 20 + 0.86 * 122.8140486 ) $ (Staying in Exhausted)]<br>\n",
        "&emsp;&emsp;&emsp;&emsp;&emsp;&emsp;&emsp;&emsp;&emsp;&emsp; $= max[21.12401636, 111.1904654, 47.8100409, 64.4940409, 125.6200818] = 125.6200818$<br><br>\n",
        "\n",
        "$V_{14}(s(Fit)) = max[1.0 ( 100 + 0.86 * 122.8140486 )$ (Going in Exhausted)]<br>\n",
        "&emsp;&emsp;&emsp;&emsp;&emsp;&emsp;&emsp;&emsp;&emsp;&emsp; $= max[205.6200818] = 205.6200818$<br><br>\n",
        "\n",
        "\n",
        "<br><br>\n",
        "$V_{14}(s(Productive)) = 164.4200818$ <br>\n",
        "$V_{14}(s(Exhausted)) = 125.6200818$ <br>\n",
        "$V_{14}(s(Fit)) = 205.6200818$ <br><br>\n",
        "$i=14$<br>\n",
        "\n",
        "$V_{15}(s(Productive)) = max[ 0.2 ( 30 + 0.86 * 164.4200818 ) $ (Staying in Productive)<br>\n",
        "&emsp;&emsp;&emsp;&emsp;&emsp;&emsp;&emsp;&emsp;&emsp;&emsp;&emsp;&emsp;&emsp;$0.8 ( 40 + 0.86 * 125.6200818 ) $ (Going to Exhausted)<br>\n",
        "&emsp;&emsp;&emsp;&emsp;&emsp;&emsp;&emsp;&emsp;&emsp;&emsp;&emsp;&emsp;&emsp;$1.0 ( -10 + 0.86 * 205.6200818 ) $ (Going to Fit)]<br>\n",
        "&emsp;&emsp;&emsp;&emsp;&emsp;&emsp;&emsp;&emsp;&emsp;&emsp; $= max[34.28025407, 118.4266163, 166.8332703] = 166.8332703$<br><br>\n",
        "\n",
        "$V_{15}(s(Exhausted)) = max[ 0.2 ( 0 + 0.86 * 125.6200818 ) $ (Staying in Exhausted)<br>\n",
        "&emsp;&emsp;&emsp;&emsp;&emsp;&emsp;&emsp;&emsp;&emsp;&emsp;&emsp;&emsp;&emsp;$0.8 ( 0 + 0.86 * 164.4200818 ) $ (Going to Productive)<br>\n",
        "&emsp;&emsp;&emsp;&emsp;&emsp;&emsp;&emsp;&emsp;&emsp;&emsp;&emsp;&emsp;&emsp;$0.5 ( -10 + 0.86 * 125.6200818 ) $ (Staying in Exhausted)<br>\n",
        "&emsp;&emsp;&emsp;&emsp;&emsp;&emsp;&emsp;&emsp;&emsp;&emsp;&emsp;&emsp;&emsp;$0.5 ( -10 + 0.86 * 164.4200818 ) $ (Going to Productive)<br>\n",
        "&emsp;&emsp;&emsp;&emsp;&emsp;&emsp;&emsp;&emsp;&emsp;&emsp;&emsp;&emsp;&emsp;$1.0 ( 20 + 0.86 * 125.6200818 ) $ (Staying in Exhausted)]<br>\n",
        "&emsp;&emsp;&emsp;&emsp;&emsp;&emsp;&emsp;&emsp;&emsp;&emsp; $= max[21.60665407, 113.1210163, 49.01663517, 65.70063517, 128.0332703] = 128.0332703$<br><br>\n",
        "\n",
        "$V_{15}(s(Fit)) = max[1.0 ( 100 + 0.86 * 125.6200818 )$ (Going in Exhausted)]<br>\n",
        "&emsp;&emsp;&emsp;&emsp;&emsp;&emsp;&emsp;&emsp;&emsp;&emsp; $= max[208.0332703] = 208.0332703$<br><br>\n",
        "\n",
        "\n",
        "<br><br>\n",
        "$V_{15}(s(Productive)) = 166.8332703$ <br>\n",
        "$V_{15}(s(Exhausted)) = 128.0332703$ <br>\n",
        "$V_{15}(s(Fit)) = 208.0332703$ <br><br>\n",
        "$i=15$<br>\n",
        "\n",
        "$V_{16}(s(Productive)) = max[ 0.2 ( 30 + 0.86 * 166.8332703 ) $ (Staying in Productive)<br>\n",
        "&emsp;&emsp;&emsp;&emsp;&emsp;&emsp;&emsp;&emsp;&emsp;&emsp;&emsp;&emsp;&emsp;$0.8 ( 40 + 0.86 * 128.0332703 ) $ (Going to Exhausted)<br>\n",
        "&emsp;&emsp;&emsp;&emsp;&emsp;&emsp;&emsp;&emsp;&emsp;&emsp;&emsp;&emsp;&emsp;$1.0 ( -10 + 0.86 * 208.0332703 ) $ (Going to Fit)]<br>\n",
        "&emsp;&emsp;&emsp;&emsp;&emsp;&emsp;&emsp;&emsp;&emsp;&emsp; $= max[34.69532249, 120.08689, 168.9086125] = 168.9086125$<br><br>\n",
        "\n",
        "$V_{16}(s(Exhausted)) = max[ 0.2 ( 0 + 0.86 * 128.0332703 ) $ (Staying in Exhausted)<br>\n",
        "&emsp;&emsp;&emsp;&emsp;&emsp;&emsp;&emsp;&emsp;&emsp;&emsp;&emsp;&emsp;&emsp;$0.8 ( 0 + 0.86 * 166.8332703 ) $ (Going to Productive)<br>\n",
        "&emsp;&emsp;&emsp;&emsp;&emsp;&emsp;&emsp;&emsp;&emsp;&emsp;&emsp;&emsp;&emsp;$0.5 ( -10 + 0.86 * 128.0332703 ) $ (Staying in Exhausted)<br>\n",
        "&emsp;&emsp;&emsp;&emsp;&emsp;&emsp;&emsp;&emsp;&emsp;&emsp;&emsp;&emsp;&emsp;$0.5 ( -10 + 0.86 * 166.8332703 ) $ (Going to Productive)<br>\n",
        "&emsp;&emsp;&emsp;&emsp;&emsp;&emsp;&emsp;&emsp;&emsp;&emsp;&emsp;&emsp;&emsp;$1.0 ( 20 + 0.86 * 128.0332703 ) $ (Staying in Exhausted)]<br>\n",
        "&emsp;&emsp;&emsp;&emsp;&emsp;&emsp;&emsp;&emsp;&emsp;&emsp; $= max[22.02172249, 114.78129, 50.05430623, 66.73830623, 130.1086125] = 130.1086125$<br><br>\n",
        "\n",
        "$V_{16}(s(Fit)) = max[1.0 ( 100 + 0.86 * 128.0332703 )$ (Going in Exhausted)]<br>\n",
        "&emsp;&emsp;&emsp;&emsp;&emsp;&emsp;&emsp;&emsp;&emsp;&emsp; $= max[210.1086125] = 210.1086125$<br><br>\n",
        "\n",
        "\n",
        "<br><br>\n",
        "$V_{16}(s(Productive)) = 168.9086125$ <br>\n",
        "$V_{16}(s(Exhausted)) = 130.1086125$ <br>\n",
        "$V_{16}(s(Fit)) = 210.1086125$ <br><br>\n",
        "$i=16$<br>\n",
        "\n",
        "$V_{17}(s(Productive)) = max[ 0.2 ( 30 + 0.86 * 168.9086125 ) $ (Staying in Productive)<br>\n",
        "&emsp;&emsp;&emsp;&emsp;&emsp;&emsp;&emsp;&emsp;&emsp;&emsp;&emsp;&emsp;&emsp;$0.8 ( 40 + 0.86 * 130.1086125 ) $ (Going to Exhausted)<br>\n",
        "&emsp;&emsp;&emsp;&emsp;&emsp;&emsp;&emsp;&emsp;&emsp;&emsp;&emsp;&emsp;&emsp;$1.0 ( -10 + 0.86 * 210.1086125 ) $ (Going to Fit)]<br>\n",
        "&emsp;&emsp;&emsp;&emsp;&emsp;&emsp;&emsp;&emsp;&emsp;&emsp; $= max[35.05228135, 121.5147254, 170.6934068] = 170.6934068$<br><br>\n",
        "\n",
        "$V_{17}(s(Exhausted)) = max[ 0.2 ( 0 + 0.86 * 130.1086125 ) $ (Staying in Exhausted)<br>\n",
        "&emsp;&emsp;&emsp;&emsp;&emsp;&emsp;&emsp;&emsp;&emsp;&emsp;&emsp;&emsp;&emsp;$0.8 ( 0 + 0.86 * 168.9086125 ) $ (Going to Productive)<br>\n",
        "&emsp;&emsp;&emsp;&emsp;&emsp;&emsp;&emsp;&emsp;&emsp;&emsp;&emsp;&emsp;&emsp;$0.5 ( -10 + 0.86 * 130.1086125 ) $ (Staying in Exhausted)<br>\n",
        "&emsp;&emsp;&emsp;&emsp;&emsp;&emsp;&emsp;&emsp;&emsp;&emsp;&emsp;&emsp;&emsp;$0.5 ( -10 + 0.86 * 168.9086125 ) $ (Going to Productive)<br>\n",
        "&emsp;&emsp;&emsp;&emsp;&emsp;&emsp;&emsp;&emsp;&emsp;&emsp;&emsp;&emsp;&emsp;$1.0 ( 20 + 0.86 * 130.1086125 ) $ (Staying in Exhausted)]<br>\n",
        "&emsp;&emsp;&emsp;&emsp;&emsp;&emsp;&emsp;&emsp;&emsp;&emsp; $= max[22.37868135, 116.2091254, 50.94670338, 67.63070338, 131.8934068] = 131.8934068$<br><br>\n",
        "\n",
        "$V_{17}(s(Fit)) = max[1.0 ( 100 + 0.86 * 130.1086125 )$ (Going in Exhausted)]<br>\n",
        "&emsp;&emsp;&emsp;&emsp;&emsp;&emsp;&emsp;&emsp;&emsp;&emsp; $= max[211.8934068] = 211.8934068$<br><br>\n",
        "\n",
        "\n",
        "<br><br>\n",
        "$V_{17}(s(Productive)) = 170.6934068$ <br>\n",
        "$V_{17}(s(Exhausted)) = 131.8934068$ <br>\n",
        "$V_{17}(s(Fit)) = 211.8934068$ <br><br>\n",
        "$i=17$<br>\n",
        "\n",
        "$V_{18}(s(Productive)) = max[ 0.2 ( 30 + 0.86 * 170.6934068 ) $ (Staying in Productive)<br>\n",
        "&emsp;&emsp;&emsp;&emsp;&emsp;&emsp;&emsp;&emsp;&emsp;&emsp;&emsp;&emsp;&emsp;$0.8 ( 40 + 0.86 * 131.8934068 ) $ (Going to Exhausted)<br>\n",
        "&emsp;&emsp;&emsp;&emsp;&emsp;&emsp;&emsp;&emsp;&emsp;&emsp;&emsp;&emsp;&emsp;$1.0 ( -10 + 0.86 * 211.8934068 ) $ (Going to Fit)]<br>\n",
        "&emsp;&emsp;&emsp;&emsp;&emsp;&emsp;&emsp;&emsp;&emsp;&emsp; $= max[35.35926597, 122.7426639, 172.2283298] = 172.2283298$<br><br>\n",
        "\n",
        "$V_{18}(s(Exhausted)) = max[ 0.2 ( 0 + 0.86 * 131.8934068 ) $ (Staying in Exhausted)<br>\n",
        "&emsp;&emsp;&emsp;&emsp;&emsp;&emsp;&emsp;&emsp;&emsp;&emsp;&emsp;&emsp;&emsp;$0.8 ( 0 + 0.86 * 170.6934068 ) $ (Going to Productive)<br>\n",
        "&emsp;&emsp;&emsp;&emsp;&emsp;&emsp;&emsp;&emsp;&emsp;&emsp;&emsp;&emsp;&emsp;$0.5 ( -10 + 0.86 * 131.8934068 ) $ (Staying in Exhausted)<br>\n",
        "&emsp;&emsp;&emsp;&emsp;&emsp;&emsp;&emsp;&emsp;&emsp;&emsp;&emsp;&emsp;&emsp;$0.5 ( -10 + 0.86 * 170.6934068 ) $ (Going to Productive)<br>\n",
        "&emsp;&emsp;&emsp;&emsp;&emsp;&emsp;&emsp;&emsp;&emsp;&emsp;&emsp;&emsp;&emsp;$1.0 ( 20 + 0.86 * 131.8934068 ) $ (Staying in Exhausted)]<br>\n",
        "&emsp;&emsp;&emsp;&emsp;&emsp;&emsp;&emsp;&emsp;&emsp;&emsp; $= max[22.68566597, 117.4370639, 51.71416492, 68.39816492, 133.4283298] = $<br><br>\n",
        "\n",
        "$V_{18}(s(Fit)) = max[1.0 ( 100 + 0.86 * 131.8934068 )$ (Going in Exhausted)]<br>\n",
        "&emsp;&emsp;&emsp;&emsp;&emsp;&emsp;&emsp;&emsp;&emsp;&emsp; $= max[213.4283298] = 213.4283298$<br><br>\n",
        "\n",
        "\n",
        "<br><br>\n",
        "$V_{18}(s(Productive)) = 172.2283298$ <br>\n",
        "$V_{18}(s(Exhausted)) = 133.4283298$ <br>\n",
        "$V_{18}(s(Fit)) = 213.4283298$ <br><br>\n",
        "$i=18$<br>\n",
        "\n",
        "$V_{19}(s(Productive)) = max[ 0.2 ( 30 + 0.86 * 172.2283298 ) $ (Staying in Productive)<br>\n",
        "&emsp;&emsp;&emsp;&emsp;&emsp;&emsp;&emsp;&emsp;&emsp;&emsp;&emsp;&emsp;&emsp;$0.8 ( 40 + 0.86 * 133.4283298 ) $ (Going to Exhausted)<br>\n",
        "&emsp;&emsp;&emsp;&emsp;&emsp;&emsp;&emsp;&emsp;&emsp;&emsp;&emsp;&emsp;&emsp;$1.0 ( -10 + 0.86 * 213.4283298 ) $ (Going to Fit)]<br>\n",
        "&emsp;&emsp;&emsp;&emsp;&emsp;&emsp;&emsp;&emsp;&emsp;&emsp; $= max[35.62327273, 123.7986909, 173.5483636] = 173.5483636$<br><br>\n",
        "\n",
        "$V_{19}(s(Exhausted)) = max[ 0.2 ( 0 + 0.86 * 133.4283298 ) $ (Staying in Exhausted)<br>\n",
        "&emsp;&emsp;&emsp;&emsp;&emsp;&emsp;&emsp;&emsp;&emsp;&emsp;&emsp;&emsp;&emsp;$0.8 ( 0 + 0.86 * 172.2283298 ) $ (Going to Productive)<br>\n",
        "&emsp;&emsp;&emsp;&emsp;&emsp;&emsp;&emsp;&emsp;&emsp;&emsp;&emsp;&emsp;&emsp;$0.5 ( -10 + 0.86 * 133.4283298 ) $ (Staying in Exhausted)<br>\n",
        "&emsp;&emsp;&emsp;&emsp;&emsp;&emsp;&emsp;&emsp;&emsp;&emsp;&emsp;&emsp;&emsp;$0.5 ( -10 + 0.86 * 172.2283298 ) $ (Going to Productive)<br>\n",
        "&emsp;&emsp;&emsp;&emsp;&emsp;&emsp;&emsp;&emsp;&emsp;&emsp;&emsp;&emsp;&emsp;$1.0 ( 20 + 0.86 * 133.4283298 ) $ (Staying in Exhausted)]<br>\n",
        "&emsp;&emsp;&emsp;&emsp;&emsp;&emsp;&emsp;&emsp;&emsp;&emsp; $= max[22.94967273, 118.4930909, 52.37418181, 69.05818181, 134.7483636] = 134.7483636$<br><br>\n",
        "\n",
        "$V_{19}(s(Fit)) = max[1.0 ( 100 + 0.86 * 133.4283298 )$ (Going in Exhausted)]<br>\n",
        "&emsp;&emsp;&emsp;&emsp;&emsp;&emsp;&emsp;&emsp;&emsp;&emsp; $= max[214.7483636] = $<br>214.7483636<br>\n",
        "\n",
        "\n",
        "<br><br>\n",
        "$V_{19}(s(Productive)) = 173.5483636$ <br>\n",
        "$V_{19}(s(Exhausted)) = 134.7483636$ <br>\n",
        "$V_{19}(s(Fit)) = 214.7483636$ <br><br>\n",
        "$i=19$<br>\n",
        "\n",
        "$V_{20}(s(Productive)) = max[ 0.2 ( 30 + 0.86 * 173.5483636 ) $ (Staying in Productive)<br>\n",
        "&emsp;&emsp;&emsp;&emsp;&emsp;&emsp;&emsp;&emsp;&emsp;&emsp;&emsp;&emsp;&emsp;$0.8 ( 40 + 0.86 * 134.7483636 ) $ (Going to Exhausted)<br>\n",
        "&emsp;&emsp;&emsp;&emsp;&emsp;&emsp;&emsp;&emsp;&emsp;&emsp;&emsp;&emsp;&emsp;$1.0 ( -10 + 0.86 * 214.7483636 ) $ (Going to Fit)]<br>\n",
        "&emsp;&emsp;&emsp;&emsp;&emsp;&emsp;&emsp;&emsp;&emsp;&emsp; $= max[35.85031854, 124.7068742, 174.6835927] = 174.6835927$<br><br>\n",
        "\n",
        "$V_{20}(s(Exhausted)) = max[ 0.2 ( 0 + 0.86 * 134.7483636 ) $ (Staying in Exhausted)<br>\n",
        "&emsp;&emsp;&emsp;&emsp;&emsp;&emsp;&emsp;&emsp;&emsp;&emsp;&emsp;&emsp;&emsp;$0.8 ( 0 + 0.86 * 173.5483636 ) $ (Going to Productive)<br>\n",
        "&emsp;&emsp;&emsp;&emsp;&emsp;&emsp;&emsp;&emsp;&emsp;&emsp;&emsp;&emsp;&emsp;$0.5 ( -10 + 0.86 * 134.7483636 ) $ (Staying in Exhausted)<br>\n",
        "&emsp;&emsp;&emsp;&emsp;&emsp;&emsp;&emsp;&emsp;&emsp;&emsp;&emsp;&emsp;&emsp;$0.5 ( -10 + 0.86 * 173.5483636 ) $ (Going to Productive)<br>\n",
        "&emsp;&emsp;&emsp;&emsp;&emsp;&emsp;&emsp;&emsp;&emsp;&emsp;&emsp;&emsp;&emsp;$1.0 ( 20 + 0.86 * 134.7483636 ) $ (Staying in Exhausted)]<br>\n",
        "&emsp;&emsp;&emsp;&emsp;&emsp;&emsp;&emsp;&emsp;&emsp;&emsp; $= max[23.17671854, 119.4012742, 52.94179635, 69.62579635, 135.8835927] = 135.8835927$<br><br>\n",
        "\n",
        "$V_{20}(s(Fit)) = max[1.0 ( 100 + 0.86 * 134.7483636 )$ (Going in Exhausted)]<br>\n",
        "&emsp;&emsp;&emsp;&emsp;&emsp;&emsp;&emsp;&emsp;&emsp;&emsp; $= max[215.8835927] = 215.8835927$<br><br>\n",
        "\n",
        "\n",
        "<br><br>\n",
        "$V_{20}(s(Productive)) = 174.6835927$ <br>\n",
        "$V_{20}(s(Exhausted)) = 135.8835927$ <br>\n",
        "$V_{20}(s(Fit)) = 215.8835927$ <br><br>\n",
        "$i=20$<br>\n",
        "\n",
        "$V_{21}(s(Productive)) = max[ 0.2 ( 30 + 0.86 * 174.6835927 ) $ (Staying in Productive)<br>\n",
        "&emsp;&emsp;&emsp;&emsp;&emsp;&emsp;&emsp;&emsp;&emsp;&emsp;&emsp;&emsp;&emsp;$0.8 ( 40 + 0.86 * 135.8835927 ) $ (Going to Exhausted)<br>\n",
        "&emsp;&emsp;&emsp;&emsp;&emsp;&emsp;&emsp;&emsp;&emsp;&emsp;&emsp;&emsp;&emsp;$1.0 ( -10 + 0.86 * 215.8835927 ) $ (Going to Fit)]<br>\n",
        "&emsp;&emsp;&emsp;&emsp;&emsp;&emsp;&emsp;&emsp;&emsp;&emsp; $= max[36.04557794, 125.4879118, 175.6598897] = 175.6598897$<br><br>\n",
        "\n",
        "$V_{21}(s(Exhausted)) = max[ 0.2 ( 0 + 0.86 * 135.8835927 ) $ (Staying in Exhausted)<br>\n",
        "&emsp;&emsp;&emsp;&emsp;&emsp;&emsp;&emsp;&emsp;&emsp;&emsp;&emsp;&emsp;&emsp;$0.8 ( 0 + 0.86 * 174.6835927 ) $ (Going to Productive)<br>\n",
        "&emsp;&emsp;&emsp;&emsp;&emsp;&emsp;&emsp;&emsp;&emsp;&emsp;&emsp;&emsp;&emsp;$0.5 ( -10 + 0.86 * 135.8835927 ) $ (Staying in Exhausted)<br>\n",
        "&emsp;&emsp;&emsp;&emsp;&emsp;&emsp;&emsp;&emsp;&emsp;&emsp;&emsp;&emsp;&emsp;$0.5 ( -10 + 0.86 * 174.6835927 ) $ (Going to Productive)<br>\n",
        "&emsp;&emsp;&emsp;&emsp;&emsp;&emsp;&emsp;&emsp;&emsp;&emsp;&emsp;&emsp;&emsp;$1.0 ( 20 + 0.86 * 135.8835927 ) $ (Staying in Exhausted)]<br>\n",
        "&emsp;&emsp;&emsp;&emsp;&emsp;&emsp;&emsp;&emsp;&emsp;&emsp; $= max[23.37197794, 120.1823118, 53.42994486, 70.11394486, 136.8598897] = 136.8598897$<br><br>\n",
        "\n",
        "$V_{21}(s(Fit)) = max[1.0 ( 100 + 0.86 * 135.8835927 )$ (Going in Exhausted)]<br>\n",
        "&emsp;&emsp;&emsp;&emsp;&emsp;&emsp;&emsp;&emsp;&emsp;&emsp; $= max[216.8598897] = 216.8598897$<br><br>"
      ],
      "metadata": {
        "id": "R2L5Q5i4lpFd"
      }
    },
    {
      "cell_type": "markdown",
      "source": [
        "### Part 3\n",
        "Using a discount factor of 0.86, solve the MDP using policy iteration algorithm (until you have complete convergence). You should start with the policy that always does **Coding**."
      ],
      "metadata": {
        "id": "BkFv7N06l0fe"
      }
    },
    {
      "cell_type": "markdown",
      "source": [
        "###### Referance: Class Section 8\n",
        "\n",
        "1. Evaluate a given policy (eg. initialise policy arbitrarily for all states s ∊ S) by calculating value function for all states s ∊ S under the given policy\n",
        "\n",
        "$$V_{\\pi}(s) = E\\large[ R(s,\\pi(s), s') + \\gamma V(s') \\large]$$\n",
        "\n",
        "2. Improve policy: find a better action for state $s\\in S$\n",
        "\n",
        "$$\\pi_{1}(s) = {arg~max}_{a\\in A} E\\large[ R(s,a,s') + \\gamma V(s') \\large]$$\n",
        "\n",
        "3. Repeat 1, 2 until the value function converges to the optimal value function.\n",
        "\n",
        "\n",
        "###Iteration one<br>\n",
        "##### Step 1\n",
        "$V_{\\pi}(s(Productive)) = ( 30 + 0.86 * 0 ) + ( 40 + 0.86 * 0 ) = 70 $ (Coding)<br><br>\n",
        "\n",
        "$V_{\\pi}(s(Exhausted)) = (20 + 0.86 * 0 ) = 20$ (Coding)<br><br>\n",
        "\n",
        "$V_{\\pi}(s(Fit)) = ( 100 + 0.86 * 0 ) = 100 $ (Coding)<br><br>\n",
        "##### Step 2\n",
        "$\\pi_{1}(s(Productive)) = argmax [(0.2 * 30 + 0.86 * 70 ), (0.8 * 40 + 0.86 * 20 )] = 66.2 $(Coding)<br><br>\n",
        "\n",
        "$\\pi_{1}(s(Exhausted)) = argmax [(1.0 * 20 + 0.86 * 20 )] = 37.2 $ (Coding)<br><br>\n",
        "\n",
        "$\\pi_{1}(s(Fit)) = argmax [(1.0 * 100 + 0.86 * 100 )] = 186 $ (Coding)<br><br><br>\n",
        "\n",
        "###Iteration two<br>\n",
        "##### Step 1\n",
        "$V_{\\pi}(s(Productive)) = ( 30 + 0.86 * 70 ) + ( 40 + 0.86 * 20 ) = 147.4 $ (Coding)<br><br>\n",
        "\n",
        "$V_{\\pi}(s(Exhausted)) = (20 + 0.86 * 20 ) = 37.2 $ (Coding)<br><br>\n",
        "\n",
        "$V_{\\pi}(s(Fit)) = ( 100 + 0.86 * 100 ) = 186 $ (Coding)<br><br>\n",
        "##### Step 2\n",
        "$\\pi_{2}(s(Productive)) = argmax [(0.2 * 30 + 0.86 *  147.4), (0.8 * 40 + 0.86 * 37.2 )] = 132.764 $(Coding)<br><br>\n",
        "\n",
        "$\\pi_{2}(s(Exhausted)) = argmax [(1.0 * 20 + 0.86 * 37.2 )] = 51.992 $ (Coding)<br><br>\n",
        "\n",
        "$\\pi_{2}(s(Fit)) = argmax [(1.0 * 100 + 0.86 * 186 )] = 259.96 $ (Coding)<br><br><br>\n",
        "\n",
        "\n",
        "###Iteration three<br>\n",
        "##### Step 1\n",
        "$V_{\\pi}(s(Productive)) = ( 30 + 0.86 * 147.4 ) + ( 40 + 0.86 * 37.2 ) = 228.756 $ (Coding)<br><br>\n",
        "\n",
        "$V_{\\pi}(s(Exhausted)) = (20 + 0.86 * 37.2 ) = 51.992 $ (Coding)<br><br>\n",
        "\n",
        "$V_{\\pi}(s(Fit)) = ( 100 + 0.86 * 186 ) = 259.96 $ (Coding)<br><br>\n",
        "##### Step 2\n",
        "$\\pi_{3}(s(Productive)) = argmax [(0.2 * 30 + 0.86 *  228.756), (0.8 * 40 + 0.86 * 51.992 )] = 202.73016 $(Coding)<br><br>\n",
        "\n",
        "$\\pi_{3}(s(Exhausted)) = argmax [(1.0 * 20 + 0.86 * 51.992 )] = 64.71312 $ (Coding)<br><br>\n",
        "\n",
        "$\\pi_{3}(s(Fit)) = argmax [(1.0 * 100 + 0.86 * 259.96 )] = 323.5656 $ (Coding)<br><br><br>\n",
        "\n",
        "\n",
        "###Iteration four<br>\n",
        "##### Step 1\n",
        "$V_{\\pi}(s(Productive)) = ( 30 + 0.86 * 228.756 ) + ( 40 + 0.86 * 51.992 ) = 311.44328 $ (Coding)<br><br>\n",
        "\n",
        "$V_{\\pi}(s(Exhausted)) = (20 + 0.86 * 51.992 ) = 64.71312 $ (Coding)<br><br>\n",
        "\n",
        "$V_{\\pi}(s(Fit)) = ( 100 + 0.86 * 259.96 ) = 323.5656 $ (Coding)<br><br>\n",
        "##### Step 2\n",
        "$\\pi_{4}(s(Productive)) = argmax [(0.2 * 30 + 0.86 *  311.44328), (0.8 * 40 + 0.86 * 64.71312 )] = 273.8412208 $(Coding)<br><br>\n",
        "\n",
        "$\\pi_{4}(s(Exhausted)) = argmax [(1.0 * 20 + 0.86 * 64.71312 )] = 75.6532832 $ (Coding)<br><br>\n",
        "\n",
        "$\\pi_{4}(s(Fit)) = argmax [(1.0 * 100 + 0.86 * 323.5656 )] = 378.266416 $ (Coding)<br><br><br>\n",
        "\n",
        "\n",
        "###Iteration five<br>\n",
        "##### Step 1\n",
        "$V_{\\pi}(s(Productive)) = ( 30 + 0.86 * 311.44328 ) + ( 40 + 0.86 * 64.71312 ) = 393.494504 $ (Coding)<br><br>\n",
        "\n",
        "$V_{\\pi}(s(Exhausted)) = (20 + 0.86 * 64.71312 ) = 75.6532832 $ (Coding)<br><br>\n",
        "\n",
        "$V_{\\pi}(s(Fit)) = ( 100 + 0.86 * 323.5656 ) = 378.266416 $ (Coding)<br><br>\n",
        "##### Step 2\n",
        "$\\pi_{5}(s(Productive)) = argmax [(0.2 * 30 + 0.86 *  393.494504), (0.8 * 40 + 0.86 * 75.6532832 )] = 344.4052734 $(Coding)<br><br>\n",
        "\n",
        "$\\pi_{5}(s(Exhausted)) = argmax [(1.0 * 20 + 0.86 * 75.6532832 )] = 85.06182355 $ (Coding)<br><br>\n",
        "\n",
        "$\\pi_{5}(s(Fit)) = argmax [(1.0 * 100 + 0.86 * 378.266416 )] = 425.3091178 $ (Coding)<br><br><br>\n",
        "\n",
        "\n",
        "###Iteration six<br>\n",
        "##### Step 1\n",
        "$V_{\\pi}(s(Productive)) = ( 30 + 0.86 * 393.494504 ) + ( 40 + 0.86 * 75.6532832 ) = 473.467097 $ (Coding)<br><br>\n",
        "\n",
        "$V_{\\pi}(s(Exhausted)) = (20 + 0.86 * 75.6532832 ) = 85.06182355 $ (Coding)<br><br>\n",
        "\n",
        "$V_{\\pi}(s(Fit)) = ( 100 + 0.86 * 378.266416 ) = 425.3091178 $ (Coding)<br><br>\n",
        "##### Step 2\n",
        "$\\pi_{6}(s(Productive)) = argmax [(0.2 * 30 + 0.86 *  473.467097), (0.8 * 40 + 0.86 * 85.06182355 )] = 413.1817034 $(Coding)<br><br>\n",
        "\n",
        "$\\pi_{6}(s(Exhausted)) = argmax [(1.0 * 20 + 0.86 * 85.06182355 )] = 93.15316825 $ (Coding)<br><br>\n",
        "\n",
        "$\\pi_{6}(s(Fit)) = argmax [(1.0 * 100 + 0.86 * 425.3091178 )] = 465.7658413 $ (Coding)<br><br><br>\n",
        "\n",
        "\n",
        "###Iteration seven<br>\n",
        "##### Step 1\n",
        "$V_{\\pi}(s(Productive)) = ( 30 + 0.86 * 473.467097 ) + ( 40 + 0.86 * 85.06182355 ) = 550.3348717 $ (Coding)<br><br>\n",
        "\n",
        "$V_{\\pi}(s(Exhausted)) = (20 + 0.86 * 85.06182355 ) = 93.15316825 $ (Coding)<br><br>\n",
        "\n",
        "$V_{\\pi}(s(Fit)) = ( 100 + 0.86 * 425.3091178 ) = 465.7658413 $ (Coding)<br><br>\n",
        "##### Step 2\n",
        "$\\pi_{7}(s(Productive)) = argmax [(0.2 * 30 + 0.86 *  550.3348717), (0.8 * 40 + 0.86 * 93.15316825 )] = 479.2879897 $(Coding)<br><br>\n",
        "\n",
        "$\\pi_{7}(s(Exhausted)) = argmax [(1.0 * 20 + 0.86 * 93.15316825 )] = 100.1117247 $ (Coding)<br><br>\n",
        "\n",
        "$\\pi_{7}(s(Fit)) = argmax [(1.0 * 100 + 0.86 * 465.7658413 )] = 500.5586235 $ (Coding)<br><br><br>\n",
        "\n",
        "\n",
        "###Iteration eight<br>\n",
        "##### Step 1\n",
        "$V_{\\pi}(s(Productive)) = ( 30 + 0.86 * 550.3348717 ) + ( 40 + 0.86 * 93.15316825 ) = 623.3997144 $ (Coding)<br><br>\n",
        "\n",
        "$V_{\\pi}(s(Exhausted)) = (20 + 0.86 * 93.15316825 ) = 100.1117247 $ (Coding)<br><br>\n",
        "\n",
        "$V_{\\pi}(s(Fit)) = ( 100 + 0.86 * 465.7658413 ) = 500.5586235 $ (Coding)<br><br>\n",
        "##### Step 2\n",
        "$\\pi_{8}(s(Productive)) = argmax [(0.2 * 30 + 0.86 *  623.3997144), (0.8 * 40 + 0.86 * 100.1117247 )] = 542.1237544 $(Coding)<br><br>\n",
        "\n",
        "$\\pi_{8}(s(Exhausted)) = argmax [(1.0 * 20 + 0.86 * 100.1117247 )] = 106.0960832 $ (Coding)<br><br>\n",
        "\n",
        "$\\pi_{8}(s(Fit)) = argmax [(1.0 * 100 + 0.86 * 500.5586235 )] = 530.4804162 $ (Coding)<br><br><br>\n",
        "\n",
        "\n",
        "###Iteration nine<br>\n",
        "##### Step 1\n",
        "$V_{\\pi}(s(Productive)) = ( 30 + 0.86 * 623.3997144 ) + ( 40 + 0.86 * 100.1117247 ) = 692.2198376 $ (Coding)<br><br>\n",
        "\n",
        "$V_{\\pi}(s(Exhausted)) = (20 + 0.86 * 100.1117247 ) = 106.0960832 $ (Coding)<br><br>\n",
        "\n",
        "$V_{\\pi}(s(Fit)) = ( 100 + 0.86 * 500.5586235 ) = 530.4804162 $ (Coding)<br><br>\n",
        "##### Step 2\n",
        "$\\pi_{9}(s(Productive)) = argmax [(0.2 * 30 + 0.86 *  692.2198376), (0.8 * 40 + 0.86 * 106.0960832 )] = 601.3090603 $(Coding)<br><br>\n",
        "\n",
        "$\\pi_{9}(s(Exhausted)) = argmax [(1.0 * 20 + 0.86 * 106.0960832 )] = 111.2426316 $ (Coding)<br><br>\n",
        "\n",
        "$\\pi_{9}(s(Fit)) = argmax [(1.0 * 100 + 0.86 * 530.4804162 )] = 556.2131579 $ (Coding)<br><br><br>\n",
        "\n",
        "\n",
        "###Iteration ten<br>\n",
        "##### Step 1\n",
        "$V_{\\pi}(s(Productive)) = ( 30 + 0.86 * 692.2198376 ) + ( 40 + 0.86 * 106.0960832 ) = 756.5516919 $ (Coding)<br><br>\n",
        "\n",
        "$V_{\\pi}(s(Exhausted)) = (20 + 0.86 * 106.0960832 ) = 111.2426316 $ (Coding)<br><br>\n",
        "\n",
        "$V_{\\pi}(s(Fit)) = ( 100 + 0.86 * 530.4804162 ) = 556.2131579 $ (Coding)<br><br>\n",
        "##### Step 2\n",
        "$\\pi_{10}(s(Productive)) = argmax [(0.2 * 30 + 0.86 *  756.5516919), (0.8 * 40 + 0.86 * 111.2426316 )] = 656.634455 $(Coding)<br><br>\n",
        "\n",
        "$\\pi_{10}(s(Exhausted)) = argmax [(1.0 * 20 + 0.86 * 111.2426316 )] = 115.6686632 $ (Coding)<br><br>\n",
        "\n",
        "$\\pi_{10}(s(Fit)) = argmax [(1.0 * 100 + 0.86 * 556.2131579 )] = 578.3433158 $ (Coding)<br><br><br>"
      ],
      "metadata": {
        "id": "wwO9xG0HlqYo"
      }
    },
    {
      "cell_type": "markdown",
      "metadata": {
        "id": "pQJg8PvNcRGt"
      },
      "source": [
        "## Problem 5: Markov Decision Process (MDP) Toolbox for Python\n",
        "---\n",
        "\n",
        "One useful Python module for solving these types of problems is called *MDP toolbox* (pymdptoolbox). The MDP toolbox provides classes and functions for the resolution of descrete-time Markov Decision Processes. The list of algorithms that have been implemented includes backwards induction, linear programming, policy iteration, q-learning and value iteration along with several variations. In the next cell you'll see how to load this module into a Jupyter notebook running in Colab. "
      ]
    },
    {
      "cell_type": "code",
      "metadata": {
        "id": "5WrBebxhcJID",
        "colab": {
          "base_uri": "https://localhost:8080/"
        },
        "outputId": "5a54fff8-9b12-4ff6-a849-68494bab2cd2"
      },
      "source": [
        "!pip install pymdptoolbox"
      ],
      "execution_count": 4,
      "outputs": [
        {
          "output_type": "stream",
          "name": "stdout",
          "text": [
            "Requirement already satisfied: pymdptoolbox in /usr/local/lib/python3.7/dist-packages (4.0b3)\n",
            "Requirement already satisfied: numpy in /usr/local/lib/python3.7/dist-packages (from pymdptoolbox) (1.21.5)\n",
            "Requirement already satisfied: scipy in /usr/local/lib/python3.7/dist-packages (from pymdptoolbox) (1.4.1)\n"
          ]
        }
      ]
    },
    {
      "cell_type": "markdown",
      "metadata": {
        "id": "DTl9nuj3Zhr5"
      },
      "source": [
        "A simple example code is given below. For details about the example, check the documentation for Python MDP Toolbox (pymdptoolbox) from this [link](https://pymdptoolbox.readthedocs.io/en/latest/index.html)."
      ]
    },
    {
      "cell_type": "code",
      "metadata": {
        "id": "8vKT0UTgZik-",
        "colab": {
          "base_uri": "https://localhost:8080/"
        },
        "outputId": "84dc3355-d253-421e-ceaa-78465ca555df"
      },
      "source": [
        "import numpy as np\n",
        "import mdptoolbox\n",
        "import mdptoolbox.example\n",
        "np.random.seed(0) # Needed to get the output below\n",
        "P, R = mdptoolbox.example.rand(2, 2)\n",
        "pi = mdptoolbox.mdp.PolicyIteration(P, R, 0.9)\n",
        "pi.run()\n",
        "print(pi.policy)\n",
        "print(pi.iter)"
      ],
      "execution_count": 5,
      "outputs": [
        {
          "output_type": "stream",
          "name": "stdout",
          "text": [
            "(1, 0)\n",
            "1\n"
          ]
        }
      ]
    },
    {
      "cell_type": "markdown",
      "metadata": {
        "id": "1QW-tv3L3x99"
      },
      "source": [
        "### Part 1\n",
        "First read the documentation for Python MDP Toolbox (pymdptoolbox) from this [link](https://pymdptoolbox.readthedocs.io/en/latest/index.html) and try to understand how it works.\n",
        "\n",
        "Then solve the MDP from *Problem 4* using both **value iteration** and **policy iteration** algorithms from the Python MDP Toolbox.\n"
      ]
    },
    {
      "cell_type": "code",
      "metadata": {
        "id": "zfem6k9-ceSg",
        "colab": {
          "base_uri": "https://localhost:8080/"
        },
        "outputId": "786fbcc6-8833-4542-a066-db45aba84cf9"
      },
      "source": [
        "# YOUR CODE HERE\n",
        "key = ['productive', 'exhausted', 'fit']\n",
        "P = np.array([\n",
        "              [ # code\n",
        "                [0.2, 0.8, 0], # productive\n",
        "                [0, 1, 0], # exhausted\n",
        "                [0, 1, 0] # fit\n",
        "              ],\n",
        "                # rest\n",
        "              [\n",
        "                [1, 0, 0],  # productive\n",
        "                [0.8, 0.2, 0], # exhausted\n",
        "                [0, 0, 1] # fit\n",
        "              ],\n",
        "                # exercise\n",
        "              [\n",
        "                [0, 0, 1], # productive\n",
        "                [0.5, 0.5, 0], # exhausted\n",
        "                [0, 0, 1] # fit\n",
        "              ]\n",
        "            ])\n",
        "\n",
        "\n",
        "R = np.array([\n",
        "              [ # code\n",
        "                [30, 40, 0], # productive\n",
        "                [0, 20, 0], # exhausted\n",
        "                [0, 100, 0] # fit\n",
        "              ],\n",
        "                # rest\n",
        "              [\n",
        "                [1, 0, 0],  # productive\n",
        "                [0, 1, 0], # exhausted\n",
        "                [0, 0, 1] # fit\n",
        "              ],\n",
        "                # exercise\n",
        "              [\n",
        "                [0, 0, -10], # productive\n",
        "                [-10, -10, 0], # exhausted\n",
        "                [0, 0, 1] # fit\n",
        "              ]\n",
        "            ])\n",
        "\n",
        "def map_policy(policy, key):\n",
        "  return (key[policy[0]], key[policy[1]], key[policy[2]])\n",
        "\n",
        "\n",
        "gamma = 0.86\n",
        "vi = mdptoolbox.mdp.ValueIteration(P, R, gamma)\n",
        "vi.run()\n",
        "print(\"vi policy: {}\".format(vi.policy))\n",
        "print(\"vi policy: {}\".format(map_policy(vi.policy, key)))\n",
        "print(\"vi iter: {}\".format(vi.iter))\n",
        "\n",
        "pi = mdptoolbox.mdp.PolicyIteration(P, R, gamma)\n",
        "pi.run()\n",
        "print(\"pi policy: {}\".format(pi.policy))\n",
        "print(\"pi policy: {}\".format(map_policy(pi.policy, key)))\n",
        "print(\"pi iter: {}\".format(pi.iter))"
      ],
      "execution_count": 6,
      "outputs": [
        {
          "output_type": "stream",
          "name": "stdout",
          "text": [
            "vi policy: (2, 1, 0)\n",
            "vi policy: ('fit', 'exhausted', 'productive')\n",
            "vi iter: 35\n",
            "pi policy: (2, 1, 0)\n",
            "pi policy: ('fit', 'exhausted', 'productive')\n",
            "pi iter: 3\n"
          ]
        }
      ]
    }
  ]
}